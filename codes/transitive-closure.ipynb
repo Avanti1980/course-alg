{
 "cells": [
  {
   "cell_type": "code",
   "execution_count": 2,
   "metadata": {},
   "outputs": [
    {
     "data": {
      "text/plain": [
       "[[1, 0, 0, 0], [1, 1, 1, 1], [1, 1, 1, 1], [1, 1, 1, 1]]"
      ]
     },
     "execution_count": 2,
     "metadata": {},
     "output_type": "execute_result"
    }
   ],
   "source": [
    "def transitive_closure(w, n):\n",
    "    t = [[0 for _ in range(n)] for _ in range(n)]\n",
    "    for i in range(n):\n",
    "        for j in range(n):\n",
    "            if i == j or w[i][j] == 1:\n",
    "                t[i][j] = 1\n",
    "    for k in range(n):\n",
    "        tt = [[t[i][j] for j in range(n)] for i in range(n)]  # 备份上一轮的t\n",
    "        for i in range(n):\n",
    "            for j in range(n):\n",
    "                t[i][j] = tt[i][j] | (tt[i][k] & tt[k][j])  # 更新t\n",
    "    return t\n",
    "\n",
    "\n",
    "# 邻接矩阵\n",
    "w = [[0, float('inf'), float('inf'), float('inf')],\n",
    "     [float('inf'), 0, 1, 1],\n",
    "     [float('inf'), 1, 0, float('inf')],\n",
    "     [1, float('inf'), 1, 0]\n",
    "     ]\n",
    "n = len(w)\n",
    "\n",
    "t = transitive_closure(w, n)\n",
    "t\n"
   ]
  }
 ],
 "metadata": {
  "kernelspec": {
   "display_name": "Python 3.10.8 64-bit",
   "language": "python",
   "name": "python3"
  },
  "language_info": {
   "codemirror_mode": {
    "name": "ipython",
    "version": 3
   },
   "file_extension": ".py",
   "mimetype": "text/x-python",
   "name": "python",
   "nbconvert_exporter": "python",
   "pygments_lexer": "ipython3",
   "version": "3.10.8"
  },
  "orig_nbformat": 4,
  "vscode": {
   "interpreter": {
    "hash": "e7370f93d1d0cde622a1f8e1c04877d8463912d04d973331ad4851f04de6915a"
   }
  }
 },
 "nbformat": 4,
 "nbformat_minor": 2
}
