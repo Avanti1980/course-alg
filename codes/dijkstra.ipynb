{
 "cells": [
  {
   "cell_type": "code",
   "execution_count": 2,
   "metadata": {},
   "outputs": [
    {
     "name": "stdout",
     "output_type": "stream",
     "text": [
      "{'s': 0, 't': 8, 'y': 5, 'z': 7, 'x': 9}\n",
      "{'s': None, 't': 'y', 'y': 's', 'z': 'y', 'x': 't'}\n",
      "{'s': 0, 't': 2, 'y': 7, 'z': -2, 'x': 4}\n",
      "{'s': None, 't': 'x', 'y': 's', 'z': 't', 'x': 'y'}\n"
     ]
    }
   ],
   "source": [
    "from queue import PriorityQueue\n",
    "\n",
    "\n",
    "def dijkstra(s):\n",
    "    q, in_q, d, p = PriorityQueue(), dict(), dict(), dict()\n",
    "\n",
    "    for v in g:  # 距离初始化为无穷大 前驱初始化为空\n",
    "        in_q[v], d[v], p[v] = False, float(\"inf\"), None\n",
    "\n",
    "    in_q[\"s\"], d[\"s\"] = True, 0\n",
    "    q.put([0, \"s\"])  # 源点入队\n",
    "\n",
    "    while not q.empty():\n",
    "        _, u = q.get()  # 获取队首元素点u\n",
    "        in_q[u] = False  # 更新点u的在队状态\n",
    "        for v in g[u]:  # 更新u指向的点的最短路径\n",
    "            if d[v] > d[u] + g[u][v]:  # 边(u,v)可以松弛\n",
    "                if in_q[v]:  # 如果点v已在队 让其出队\n",
    "                    q.queue.remove([d[v], v])\n",
    "                d[v], p[v] = d[u] + g[u][v], u  # 更新最短距离和前驱\n",
    "                q.put([d[v], v])\n",
    "                in_q[v] = True\n",
    "\n",
    "    return d, p\n",
    "\n",
    "\n",
    "g = {\n",
    "    \"s\": {\"t\": 10, \"y\": 5},  # w(s,t) = 6, w(s,y) = 5\n",
    "    \"t\": {\"x\": 1, \"y\": 2},  # w(t,x) = 1, w(t,y) = 2\n",
    "    \"y\": {\"t\": 3, \"z\": 2, \"x\": 9},  # w(y,t) = 3, w(y,z) = 2, w(y,x) = 9\n",
    "    \"z\": {\"s\": 7, \"x\": 6},  # w(z,s) = 7, w(z,x) = 6\n",
    "    \"x\": {\"z\": 4},  # w(x,z) = 4\n",
    "}\n",
    "\n",
    "d, p = dijkstra(\"s\")\n",
    "print(d)\n",
    "print(p)\n",
    "\n",
    "g = {  # dijkstra也是可以处理带负边的图的\n",
    "    \"s\": {\"t\": 6, \"y\": 7},  # w(s,t) = 6, w(s,y) = 7\n",
    "    \"t\": {\"x\": 5, \"z\": -4, \"y\": 8},  # w(t,x) = 5, w(t,z) = -4, w(t,y) = 8\n",
    "    \"y\": {\"z\": 9, \"x\": -3},  # w(y,z) = 9, w(y,x) = -3\n",
    "    \"z\": {\"x\": 7, \"s\": 2},  # w(z,x) = 7, w(z,s) = 2\n",
    "    \"x\": {\"t\": -2},  # w(x,t) = -2\n",
    "}\n",
    "\n",
    "d, p = dijkstra(\"s\")\n",
    "print(d)\n",
    "print(p)\n"
   ]
  }
 ],
 "metadata": {
  "kernelspec": {
   "display_name": "Python 3",
   "language": "python",
   "name": "python3"
  },
  "language_info": {
   "codemirror_mode": {
    "name": "ipython",
    "version": 3
   },
   "file_extension": ".py",
   "mimetype": "text/x-python",
   "name": "python",
   "nbconvert_exporter": "python",
   "pygments_lexer": "ipython3",
   "version": "3.12.7"
  },
  "orig_nbformat": 4
 },
 "nbformat": 4,
 "nbformat_minor": 2
}
