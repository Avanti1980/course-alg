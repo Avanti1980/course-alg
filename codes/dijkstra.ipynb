{
 "cells": [
  {
   "cell_type": "code",
   "execution_count": 2,
   "metadata": {},
   "outputs": [
    {
     "name": "stdout",
     "output_type": "stream",
     "text": [
      "{'s': 0, 't': 8, 'y': 5, 'z': 7, 'x': 9}\n",
      "{'s': None, 't': 'y', 'y': 's', 'z': 'y', 'x': 't'}\n"
     ]
    }
   ],
   "source": [
    "def dijkstra(g, s):\n",
    "    d, p, in_S = dict(), dict(), dict()\n",
    "    for v in g:  # 距离初始化为无穷大 前驱初始化为空 S为空集\n",
    "        d[v], p[v], in_S[v] = float(\"inf\"), None, False\n",
    "    d[s] = 0  # 源点到自己的最短路径长度为零\n",
    "\n",
    "    for _ in range(len(g)):\n",
    "        min_value = float('inf')\n",
    "        u = None\n",
    "\n",
    "        # 遍历所有点 寻找不在S中且最短路径估计值最小的点 \n",
    "        # 我们这儿就是用个无序的字典实现d[] 遍历找最小时间复杂度O(V)\n",
    "        # d[]可以用二叉堆、斐波那契堆等数据结构实现 找最小的时间复杂度可以改进\n",
    "        for v in g:  \n",
    "            if not in_S[v] and d[v] < min_value:\n",
    "                min_value = d[v]  \n",
    "                u = v\n",
    "\n",
    "        if u != None:\n",
    "            in_S[u] = True  # 将u加入S\n",
    "            for v in g[u]:  # 更新u指向的点的最短路径的估计值\n",
    "                if d[v] > d[u] + g[u][v]:             # 松弛\n",
    "                    d[v], p[v] = (d[u] + g[u][v], u)  # 更新当前最短距离和前驱\n",
    "\n",
    "    return d, p, in_S\n",
    "\n",
    "\n",
    "g = {\n",
    "    \"s\": {\"t\": 10, \"y\": 5},         # w(s,t) = 6, w(s,y) = 5\n",
    "    \"t\": {\"x\": 1, \"y\": 2},          # w(t,x) = 1, w(t,y) = 2\n",
    "    \"y\": {\"t\": 3, \"z\": 2, \"x\": 9},  # w(y,t) = 3, w(y,z) = 2, w(y,x) = 9\n",
    "    \"z\": {\"s\": 7, \"x\": 6},          # w(z,s) = 7, w(z,x) = 6\n",
    "    \"x\": {\"z\": 4},                  # w(x,z) = 4\n",
    "}\n",
    "\n",
    "d, p, in_S = dijkstra(g, \"s\")\n",
    "print(d)\n",
    "print(p)"
   ]
  }
 ],
 "metadata": {
  "kernelspec": {
   "display_name": "Python 3.10.8 64-bit",
   "language": "python",
   "name": "python3"
  },
  "language_info": {
   "codemirror_mode": {
    "name": "ipython",
    "version": 3
   },
   "file_extension": ".py",
   "mimetype": "text/x-python",
   "name": "python",
   "nbconvert_exporter": "python",
   "pygments_lexer": "ipython3",
   "version": "3.10.8"
  },
  "orig_nbformat": 4,
  "vscode": {
   "interpreter": {
    "hash": "e7370f93d1d0cde622a1f8e1c04877d8463912d04d973331ad4851f04de6915a"
   }
  }
 },
 "nbformat": 4,
 "nbformat_minor": 2
}
