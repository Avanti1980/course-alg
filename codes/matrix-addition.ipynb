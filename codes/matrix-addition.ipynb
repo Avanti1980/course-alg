{
 "cells": [
  {
   "cell_type": "code",
   "execution_count": 1,
   "metadata": {},
   "outputs": [
    {
     "name": "stdout",
     "output_type": "stream",
     "text": [
      "C1 =\n",
      " [[0.3648247  1.11432047 1.34565141 0.41159401 0.99944924]\n",
      " [1.23039023 0.81424833 0.88238239 1.70130574 0.55871596]\n",
      " [0.9880771  0.77543337 0.99376285 1.67412808 0.91901383]\n",
      " [1.68611508 1.23540597 0.81944969 1.05316326 1.80137772]\n",
      " [1.5360058  1.35630743 1.05556331 0.88982021 1.27545423]\n",
      " [1.00999933 1.05817733 1.523987   1.46689951 1.31876796]\n",
      " [0.40339576 0.391133   0.40321873 0.96496205 0.74404133]]\n",
      "C2 =\n",
      " [[0.3648247  1.11432047 1.34565141 0.41159401 0.99944924]\n",
      " [1.23039023 0.81424833 0.88238239 1.70130574 0.55871596]\n",
      " [0.9880771  0.77543337 0.99376285 1.67412808 0.91901383]\n",
      " [1.68611508 1.23540597 0.81944969 1.05316326 1.80137772]\n",
      " [1.5360058  1.35630743 1.05556331 0.88982021 1.27545423]\n",
      " [1.00999933 1.05817733 1.523987   1.46689951 1.31876796]\n",
      " [0.40339576 0.391133   0.40321873 0.96496205 0.74404133]]\n",
      "C1 - C2 =\n",
      " [[0. 0. 0. 0. 0.]\n",
      " [0. 0. 0. 0. 0.]\n",
      " [0. 0. 0. 0. 0.]\n",
      " [0. 0. 0. 0. 0.]\n",
      " [0. 0. 0. 0. 0.]\n",
      " [0. 0. 0. 0. 0.]\n",
      " [0. 0. 0. 0. 0.]]\n",
      "0.0 0.0\n"
     ]
    }
   ],
   "source": [
    "import numpy as np\n",
    "\n",
    "\n",
    "def add(A, B, C, m, n):\n",
    "    for i in range(m):\n",
    "        for j in range(n):\n",
    "            C[i, j] = A[i, j] + B[i, j]\n",
    "\n",
    "\n",
    "def add_rec(A, B, C, shape):\n",
    "    m, n = shape\n",
    "    if m == 1 or n == 1:\n",
    "        C[:] = A[:] + B[:]\n",
    "    else:\n",
    "        mid_m, mid_n = int(m / 2), int(n / 2)\n",
    "\n",
    "        # 四个子矩阵的索引\n",
    "        block_11 = slice(None, mid_m), slice(None, mid_n)\n",
    "        block_12 = slice(None, mid_m), slice(mid_n, None)\n",
    "        block_21 = slice(mid_m, None), slice(None, mid_n)\n",
    "        block_22 = slice(mid_m, None), slice(mid_n, None)\n",
    "\n",
    "        add_rec(A[block_11], B[block_11], C[block_11], A[block_11].shape)\n",
    "        add_rec(A[block_12], B[block_12], C[block_12], A[block_12].shape)\n",
    "        add_rec(A[block_21], B[block_21], C[block_21], A[block_21].shape)\n",
    "        add_rec(A[block_22], B[block_22], C[block_22], A[block_22].shape)\n",
    "\n",
    "\n",
    "m, n = 7, 5\n",
    "A, B = np.random.rand(m, n), np.random.rand(m, n)\n",
    "C1, C2 = np.empty((m, n)), np.empty((m, n))\n",
    "add(A, B, C1, m, n)\n",
    "add_rec(A, B, C2, [m, n])\n",
    "\n",
    "print(\"C1 =\\n\", C1)\n",
    "print(\"C2 =\\n\", C2)\n",
    "print(\"C1 - C2 =\\n\", C1 - C2)\n",
    "print((C1 - C2).max(), (C1 - C2).min())\n"
   ]
  }
 ],
 "metadata": {
  "kernelspec": {
   "display_name": "Python 3",
   "language": "python",
   "name": "python3"
  },
  "language_info": {
   "codemirror_mode": {
    "name": "ipython",
    "version": 3
   },
   "file_extension": ".py",
   "mimetype": "text/x-python",
   "name": "python",
   "nbconvert_exporter": "python",
   "pygments_lexer": "ipython3",
   "version": "3.12.7"
  },
  "orig_nbformat": 4
 },
 "nbformat": 4,
 "nbformat_minor": 2
}
