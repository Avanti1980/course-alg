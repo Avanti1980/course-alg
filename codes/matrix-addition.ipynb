{
 "cells": [
  {
   "cell_type": "code",
   "execution_count": 14,
   "metadata": {},
   "outputs": [
    {
     "name": "stdout",
     "output_type": "stream",
     "text": [
      "A =  [[0.98648932 0.49100944 0.58696753 0.17697292 0.79656112]\n",
      " [0.00899593 0.15940172 0.39335469 0.19590005 0.13280682]\n",
      " [0.9051304  0.56505155 0.68536063 0.94288463 0.98996833]\n",
      " [0.66828114 0.48763092 0.43145393 0.11611276 0.38321539]\n",
      " [0.95667781 0.57546288 0.83521506 0.27791921 0.34991639]]\n",
      "B =  [[0.43065543 0.74382332 0.18909295 0.21831652 0.59133505]\n",
      " [0.81545839 0.79374738 0.5523289  0.29023776 0.83552236]\n",
      " [0.53391557 0.57211817 0.1626183  0.93831095 0.44724243]\n",
      " [0.11323764 0.93997301 0.70298212 0.63553244 0.49201365]\n",
      " [0.46366319 0.20413594 0.80496311 0.71288028 0.28736042]]\n"
     ]
    }
   ],
   "source": [
    "import numpy as np\n",
    "\n",
    "def add(A, B, C, n):\n",
    "    for i in range(n):\n",
    "        for j in range(n):\n",
    "            C[i, j] = A[i, j] + B[i, j]\n",
    "\n",
    "m = n = 5\n",
    "A = np.random.random((n, n))\n",
    "B = np.random.random((n, n))\n",
    "\n",
    "print(\"A = \", A)\n",
    "print(\"B = \", B)\n",
    "\n",
    "C1 = np.zeros((n, n))\n",
    "add(A, B, C1, n)"
   ]
  },
  {
   "cell_type": "code",
   "execution_count": 15,
   "metadata": {},
   "outputs": [
    {
     "name": "stdout",
     "output_type": "stream",
     "text": [
      "0.0 0.0\n",
      "0.0 0.0\n"
     ]
    }
   ],
   "source": [
    "def add_rec_copy(A, B, C, n):\n",
    "    if n == 1:\n",
    "        C[0, 0] = A[0, 0] + B[0, 0]\n",
    "    else:\n",
    "        mid = int(n/2)\n",
    "\n",
    "        # 复制子矩阵到 A11 A12 A21 A22 B11 B12 B21 B22\n",
    "        A11, B11 = A[:mid, :mid], B[:mid, :mid]\n",
    "        A12, B12 = A[:mid, mid:], B[:mid, mid:]\n",
    "        A21, B21 = A[mid:, :mid], B[mid:, :mid]\n",
    "        A22, B22 = A[mid:, mid:], B[mid:, mid:]\n",
    "\n",
    "        # 依次计算 C11 C12 C21 C22 并复制到 C 的对应位置\n",
    "        add_rec_copy(A11, B11, C[:mid, :mid], mid)\n",
    "        add_rec_copy(A12, B12, C[:mid, mid:], mid)\n",
    "        add_rec_copy(A21, B21, C[mid:, :mid], mid)\n",
    "        add_rec_copy(A22, B22, C[mid:, mid:], mid)\n",
    "\n",
    "\n",
    "def add_rec_nocopy(A, B, C, ar1, ar2, ac1, ac2, br1, br2, bc1, bc2, cr1, cr2, cc1, cc2):\n",
    "    if ar1 == ar2 - 1:\n",
    "        C[cr1, cc1] = A[ar1, ac1] + B[br1, bc1]\n",
    "    else:\n",
    "        ar, ac = int((ar1 + ar2) / 2), int((ac1 + ac2) / 2)\n",
    "        br, bc = int((br1 + br2) / 2), int((bc1 + bc2) / 2)\n",
    "        cr, cc = int((cr1 + cr2) / 2), int((cc1 + cc2) / 2)\n",
    "\n",
    "        # C11 = A11 + B11\n",
    "        add_rec_nocopy(A, B, C, ar1, ar, ac1, ac, br1, br, bc1, bc, cr1, cr, cc1, cc)\n",
    "\n",
    "        # C12 = A12 + B12\n",
    "        add_rec_nocopy(A, B, C, ar1, ar, ac, ac2, br1, br, bc, bc2, cr1, cr, cc, cc2)\n",
    "\n",
    "        # C21 = A21 + B21\n",
    "        add_rec_nocopy(A, B, C, ar, ar2, ac1, ac, br, br2, bc1, bc, cr, cr2, cc1, cc)\n",
    "\n",
    "        # C22 = A22 + B22\n",
    "        add_rec_nocopy(A, B, C, ar, ar2, ac, ac2, br, br2, bc, bc2, cr, cr2, cc, cc2)\n",
    "\n",
    "\n",
    "# 如果n不是2的幂次 将m置为最小的大于n的2的幂次\n",
    "if (n & (n - 1)) != 0:\n",
    "    m |= m >> 1\n",
    "    m |= m >> 2\n",
    "    m |= m >> 4\n",
    "    m |= m >> 8\n",
    "    m |= m >> 16\n",
    "    m += 1\n",
    "\n",
    "# 补零\n",
    "A = np.pad(A, ((0, m-n), (0, m-n)), 'constant')\n",
    "B = np.pad(B, ((0, m-n), (0, m-n)), 'constant')\n",
    "\n",
    "C2 = np.zeros((m, m))\n",
    "add_rec_copy(A, B, C2, m)\n",
    "C2 = C2[:n, :n]\n",
    "\n",
    "C3 = np.zeros((m, m))\n",
    "add_rec_nocopy(A, B, C3, 0, m, 0, m, 0, m, 0, m, 0, m, 0, m)\n",
    "C3 = C3[:n, :n]\n",
    "\n",
    "# print(\"C1 = \", C1)\n",
    "# print(\"C2 = \", C2)\n",
    "# print(\"C3 = \", C3)\n",
    "\n",
    "print((C1-C2).max(), (C1-C2).min())\n",
    "print((C1-C3).max(), (C1-C3).min())\n"
   ]
  }
 ],
 "metadata": {
  "kernelspec": {
   "display_name": "Python 3.10.8 64-bit",
   "language": "python",
   "name": "python3"
  },
  "language_info": {
   "codemirror_mode": {
    "name": "ipython",
    "version": 3
   },
   "file_extension": ".py",
   "mimetype": "text/x-python",
   "name": "python",
   "nbconvert_exporter": "python",
   "pygments_lexer": "ipython3",
   "version": "3.10.8"
  },
  "orig_nbformat": 4,
  "vscode": {
   "interpreter": {
    "hash": "e7370f93d1d0cde622a1f8e1c04877d8463912d04d973331ad4851f04de6915a"
   }
  }
 },
 "nbformat": 4,
 "nbformat_minor": 2
}
