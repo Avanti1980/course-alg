{
 "cells": [
  {
   "cell_type": "code",
   "execution_count": 3,
   "metadata": {},
   "outputs": [
    {
     "name": "stdout",
     "output_type": "stream",
     "text": [
      "15125\n",
      "[[0, 15750, 7875, 9375, 11875, 15125], [0, 0, 2625, 4375, 7125, 10500], [0, 0, 0, 750, 2500, 5375], [0, 0, 0, 0, 1000, 3500], [0, 0, 0, 0, 0, 5000], [0, 0, 0, 0, 0, 0]]\n",
      "[[1, 1, 3, 3, 3], [0, 2, 3, 3, 3], [0, 0, 3, 3, 3], [0, 0, 0, 4, 5], [0, 0, 0, 0, 5]]\n",
      "((A1(A2A3))((A4A5)A6))"
     ]
    }
   ],
   "source": [
    "import sys\n",
    "\n",
    "\n",
    "def matrix_chain(p):\n",
    "    for l in range(2, n+1):        # 子问题长度 l = 2 -> n\n",
    "        for i in range(1, n-l+2):  # 从第i个矩阵开始\n",
    "            j = i + l - 1          # 到第j个矩阵结束\n",
    "            m[i][j] = sys.maxsize  # 初始化为无穷大\n",
    "            for k in range(i, j):  # 遍历最优分开位置\n",
    "                cost = m[i][k] + m[k+1][j] + p[i-1] * p[k] * p[j]\n",
    "                if cost < m[i][j]:\n",
    "                    m[i][j] = cost\n",
    "                    s[i][j] = k\n",
    "                k = k + 1\n",
    "    return m[1][n]\n",
    "\n",
    "\n",
    "def print_sol(s, i, j):\n",
    "    if i == j:\n",
    "        print(\"A%d\" % (i), end='')\n",
    "    else:\n",
    "        print(\"(\", end='')\n",
    "        print_sol(s, i, s[i][j])\n",
    "        print_sol(s, s[i][j]+1, j)\n",
    "        print(\")\", end='')\n",
    "\n",
    "\n",
    "p = [30, 35, 15, 5, 10, 20, 25]\n",
    "n = len(p) - 1  # 矩阵个数\n",
    "m = [[0 for i in range(n+1)] for j in range(n+1)]\n",
    "s = [[0 for i in range(n+1)] for j in range(n+1)]\n",
    "print(matrix_chain(p))\n",
    "print([m[i][1:n+1] for i in range(1, n+1)])\n",
    "print([s[i][2:n+1] for i in range(1, n)])\n",
    "print_sol(s, 1, n)"
   ]
  }
 ],
 "metadata": {
  "kernelspec": {
   "display_name": "Python 3.10.8 64-bit",
   "language": "python",
   "name": "python3"
  },
  "language_info": {
   "codemirror_mode": {
    "name": "ipython",
    "version": 3
   },
   "file_extension": ".py",
   "mimetype": "text/x-python",
   "name": "python",
   "nbconvert_exporter": "python",
   "pygments_lexer": "ipython3",
   "version": "3.10.8"
  },
  "orig_nbformat": 4,
  "vscode": {
   "interpreter": {
    "hash": "e7370f93d1d0cde622a1f8e1c04877d8463912d04d973331ad4851f04de6915a"
   }
  }
 },
 "nbformat": 4,
 "nbformat_minor": 2
}
