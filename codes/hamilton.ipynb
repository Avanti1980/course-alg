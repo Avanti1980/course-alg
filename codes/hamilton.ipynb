{
 "cells": [
  {
   "cell_type": "code",
   "execution_count": 1,
   "metadata": {},
   "outputs": [
    {
     "name": "stdout",
     "output_type": "stream",
     "text": [
      "['a', 'b', 'c', 'e', 'd', 'a']\n",
      "['a', 'd', 'e', 'c', 'b', 'a']\n"
     ]
    }
   ],
   "source": [
    "def hamilton(vertex):\n",
    "    if vertex == start and len(cycle) == len(g) + 1:  # 找到回路\n",
    "        print(cycle)\n",
    "        return\n",
    "\n",
    "    for v in g[vertex]:\n",
    "        if not visited[v]:\n",
    "            visited[v] = True\n",
    "            cycle.append(v)\n",
    "            hamilton(v)\n",
    "            visited[v] = False\n",
    "            cycle.pop()\n",
    "\n",
    "\n",
    "g = {                           # a-----b\n",
    "    \"a\": [\"b\", \"c\", \"d\"],       # |\\   / \n",
    "    \"b\": [\"a\", \"c\"],            # | \\ /   \n",
    "    \"c\": [\"a\", \"b\", \"d\", \"e\"],  # |  c     \n",
    "    \"d\": [\"a\", \"c\", \"e\"],       # | / \\   \n",
    "    \"e\": [\"c\", \"d\"],            # |/   \\ \n",
    "}                               # d-----e\n",
    "visited = {v: False for v in g}\n",
    "start = \"a\"\n",
    "cycle = [start]\n",
    "hamilton(start)"
   ]
  },
  {
   "cell_type": "code",
   "execution_count": 2,
   "metadata": {},
   "outputs": [
    {
     "name": "stdout",
     "output_type": "stream",
     "text": [
      "['c', 'a', 'b', 'f', 'e', 'd', 'c']\n",
      "['c', 'a', 'd', 'e', 'f', 'b', 'c']\n",
      "['c', 'b', 'f', 'e', 'd', 'a', 'c']\n",
      "['c', 'd', 'a', 'b', 'f', 'e', 'c']\n",
      "['c', 'd', 'e', 'f', 'b', 'a', 'c']\n",
      "['c', 'e', 'f', 'b', 'a', 'd', 'c']\n"
     ]
    }
   ],
   "source": [
    "g = {                           # a-----b\n",
    "    \"a\": [\"b\", \"c\", \"d\"],       # |\\   / \\\n",
    "    \"b\": [\"a\", \"c\", \"f\"],       # | \\ /   \\\n",
    "    \"c\": [\"a\", \"b\", \"d\", \"e\"],  # |  c     f\n",
    "    \"d\": [\"a\", \"c\", \"e\"],       # | / \\   /\n",
    "    \"e\": [\"c\", \"d\", \"f\"],       # |/   \\ /\n",
    "    \"f\": [\"b\", \"e\"],            # d-----e\n",
    "}\n",
    "visited = {v: False for v in g}\n",
    "start = \"c\"\n",
    "cycle = [start]\n",
    "hamilton(start)"
   ]
  }
 ],
 "metadata": {
  "kernelspec": {
   "display_name": "Python 3",
   "language": "python",
   "name": "python3"
  },
  "language_info": {
   "codemirror_mode": {
    "name": "ipython",
    "version": 3
   },
   "file_extension": ".py",
   "mimetype": "text/x-python",
   "name": "python",
   "nbconvert_exporter": "python",
   "pygments_lexer": "ipython3",
   "version": "3.11.6"
  }
 },
 "nbformat": 4,
 "nbformat_minor": 2
}
