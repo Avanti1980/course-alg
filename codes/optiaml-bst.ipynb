{
 "cells": [
  {
   "cell_type": "code",
   "execution_count": 1,
   "metadata": {},
   "outputs": [
    {
     "name": "stdout",
     "output_type": "stream",
     "text": [
      "2.75\n",
      "e =\n",
      " [[0.05 0.45 0.9  1.25 1.75 2.75]\n",
      " [ inf 0.1  0.4  0.7  1.2  2.  ]\n",
      " [ inf  inf 0.05 0.25 0.6  1.3 ]\n",
      " [ inf  inf  inf 0.05 0.3  0.9 ]\n",
      " [ inf  inf  inf  inf 0.05 0.5 ]\n",
      " [ inf  inf  inf  inf  inf 0.1 ]]\n",
      "w =\n",
      " [[0.05 0.3  0.45 0.55 0.7  1.  ]\n",
      " [0.   0.1  0.25 0.35 0.5  0.8 ]\n",
      " [0.   0.   0.05 0.15 0.3  0.6 ]\n",
      " [0.   0.   0.   0.05 0.2  0.5 ]\n",
      " [0.   0.   0.   0.   0.05 0.35]\n",
      " [0.   0.   0.   0.   0.   0.1 ]]\n",
      "root =\n",
      " [[1 1 2 2 2]\n",
      " [0 2 2 2 4]\n",
      " [0 0 3 4 5]\n",
      " [0 0 0 4 5]\n",
      " [0 0 0 0 5]]\n"
     ]
    }
   ],
   "source": [
    "import numpy as np\n",
    "\n",
    "\n",
    "def optimal_bst(p, q):\n",
    "    n = len(p)\n",
    "    e = np.full((n + 2, n + 1), float(\"inf\"))\n",
    "    w = np.zeros((n + 2, n + 1))\n",
    "    root = np.zeros((n + 1, n + 1), dtype=\"int\")\n",
    "    for i in range(1, n + 2):\n",
    "        e[i, i - 1] = w[i, i - 1] = q[i - 1]  # 边界情况\n",
    "    for l in range(1, n + 1):  # 子问题 l = 1 -> n\n",
    "        for i in range(1, n - l + 2):  # 从第i个关键字\n",
    "            j = i + l - 1  # 到第j个关键字\n",
    "            w[i, j] = w[i, j - 1] + p[j - 1] + q[j]  # 填写w表\n",
    "            for r in range(i, j + 1):  # 遍历寻找最优根节点\n",
    "                t = e[i, r - 1] + e[r + 1, j] + w[i, j]\n",
    "                if t < e[i, j]:\n",
    "                    e[i, j] = t  # 更新期望搜索代价\n",
    "                    root[i, j] = r  # 更新最优根节点\n",
    "    return e, w, root\n",
    "\n",
    "\n",
    "p = [0.15, 0.1, 0.05, 0.1, 0.2]\n",
    "q = [0.05, 0.1, 0.05, 0.05, 0.05, 0.1]\n",
    "e, w, root = optimal_bst(p, q)\n",
    "print(e[1, -1])\n",
    "print(\"e =\\n\", e[1:, :])\n",
    "print(\"w =\\n\", w[1:, :])\n",
    "print(\"root =\\n\", root[1:, 1:])"
   ]
  }
 ],
 "metadata": {
  "kernelspec": {
   "display_name": "Python 3",
   "language": "python",
   "name": "python3"
  },
  "language_info": {
   "codemirror_mode": {
    "name": "ipython",
    "version": 3
   },
   "file_extension": ".py",
   "mimetype": "text/x-python",
   "name": "python",
   "nbconvert_exporter": "python",
   "pygments_lexer": "ipython3",
   "version": "3.12.7"
  },
  "orig_nbformat": 4
 },
 "nbformat": 4,
 "nbformat_minor": 2
}
