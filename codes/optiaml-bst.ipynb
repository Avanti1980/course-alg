{
 "cells": [
  {
   "cell_type": "code",
   "execution_count": 1,
   "metadata": {},
   "outputs": [
    {
     "name": "stdout",
     "output_type": "stream",
     "text": [
      "2.75\n",
      "e = [[0.05, 0.45000000000000007, 0.9, 1.25, 1.75, 2.75], [inf, 0.1, 0.4, 0.7, 1.2, 2.0], [inf, inf, 0.05, 0.25, 0.6, 1.2999999999999998], [inf, inf, inf, 0.05, 0.30000000000000004, 0.9], [inf, inf, inf, inf, 0.05, 0.5], [inf, inf, inf, inf, inf, 0.1]]\n",
      "w = [[0.05, 0.30000000000000004, 0.45, 0.55, 0.7000000000000001, 1.0000000000000002], [0, 0.1, 0.25, 0.35, 0.49999999999999994, 0.7999999999999999], [0, 0, 0.05, 0.15000000000000002, 0.3, 0.6], [0, 0, 0, 0.05, 0.2, 0.5], [0, 0, 0, 0, 0.05, 0.35], [0, 0, 0, 0, 0, 0.1]]\n",
      "root = [[1, 1, 2, 2, 2], [0, 2, 2, 2, 4], [0, 0, 3, 4, 5], [0, 0, 0, 4, 5], [0, 0, 0, 0, 5]]\n"
     ]
    }
   ],
   "source": [
    "def optimal_bst(p, q, n):\n",
    "    e = [[float(\"inf\") for j in range(n+1)] for i in range(n+2)]\n",
    "    w = [[0 for j in range(n+1)] for i in range(n+2)]\n",
    "    root = [[0 for j in range(n+1)] for i in range(n+1)]\n",
    "    for i in range(1, n+2):\n",
    "        e[i][i-1] = w[i][i-1] = q[i-1]\n",
    "    for l in range(1, n+1):          # 子问题 l = 1 -> n\n",
    "        for i in range(1, n-l+2):    # 从第i个关键字开始\n",
    "            j = i + l - 1            # 到第j个关键字结束\n",
    "            w[i][j] = w[i][j-1] + p[j] + q[j]\n",
    "            for r in range(i, j+1):  # 遍历寻找最优根节点\n",
    "                t = e[i][r-1] + e[r+1][j] + w[i][j]\n",
    "                if t < e[i][j]:\n",
    "                    e[i][j] = t\n",
    "                    root[i][j] = r\n",
    "    return e, w, root\n",
    "\n",
    "\n",
    "p = [0, 0.15, 0.1, 0.05, 0.1, 0.2]\n",
    "q = [0.05, 0.1, 0.05, 0.05, 0.05, 0.1]\n",
    "n = len(p) - 1\n",
    "e, w, root = optimal_bst(p, q, n)\n",
    "print(e[1][n])\n",
    "print(\"e =\", [e[i][:n+1] for i in range(1, n+2)])\n",
    "print(\"w =\", [w[i][:n+1] for i in range(1, n+2)])\n",
    "print(\"root =\", [root[i][1:n+1] for i in range(1, n+1)])\n",
    "\n"
   ]
  }
 ],
 "metadata": {
  "kernelspec": {
   "display_name": "Python 3.10.8 64-bit",
   "language": "python",
   "name": "python3"
  },
  "language_info": {
   "codemirror_mode": {
    "name": "ipython",
    "version": 3
   },
   "file_extension": ".py",
   "mimetype": "text/x-python",
   "name": "python",
   "nbconvert_exporter": "python",
   "pygments_lexer": "ipython3",
   "version": "3.10.8"
  },
  "orig_nbformat": 4,
  "vscode": {
   "interpreter": {
    "hash": "e7370f93d1d0cde622a1f8e1c04877d8463912d04d973331ad4851f04de6915a"
   }
  }
 },
 "nbformat": 4,
 "nbformat_minor": 2
}
