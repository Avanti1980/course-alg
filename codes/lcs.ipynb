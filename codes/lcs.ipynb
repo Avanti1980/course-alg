{
 "cells": [
  {
   "cell_type": "code",
   "execution_count": 1,
   "metadata": {},
   "outputs": [
    {
     "name": "stdout",
     "output_type": "stream",
     "text": [
      "[[0 0 0 0 0 0 0]\n",
      " [0 0 0 0 1 1 1]\n",
      " [0 1 1 1 1 2 2]\n",
      " [0 1 1 2 2 2 2]\n",
      " [0 1 1 2 2 3 3]\n",
      " [0 1 2 2 2 3 3]\n",
      " [0 1 2 2 3 3 4]\n",
      " [0 1 2 2 3 4 4]]\n",
      "[['↑' '↑' '↑' '↖' '←' '↖']\n",
      " ['↖' '←' '←' '↑' '↖' '←']\n",
      " ['↑' '↑' '↖' '←' '↑' '↑']\n",
      " ['↖' '↑' '↑' '↑' '↖' '←']\n",
      " ['↑' '↖' '↑' '↑' '↑' '↑']\n",
      " ['↑' '↑' '↑' '↖' '↑' '↖']\n",
      " ['↖' '↑' '↑' '↑' '↖' '↑']]\n",
      "['B', 'C', 'B', 'A']\n"
     ]
    }
   ],
   "source": [
    "import numpy as np\n",
    "\n",
    "\n",
    "def lcs(X, Y):\n",
    "    m, n = len(X), len(Y)\n",
    "    c, b = np.zeros((m + 1, n + 1), dtype=\"int\"), np.empty((m, n), dtype=\"str\")\n",
    "    for i in range(1, m + 1):\n",
    "        for j in range(1, n + 1):\n",
    "            if X[i - 1] == Y[j - 1]:  # 如果当前两个子串的最后一个字符相同\n",
    "                c[i, j] = c[i - 1, j - 1] + 1\n",
    "                b[i - 1, j - 1] = \"↖\"\n",
    "            elif c[i - 1, j] >= c[i, j - 1]:\n",
    "                c[i, j] = c[i - 1, j]\n",
    "                b[i - 1, j - 1] = \"↑\"\n",
    "            else:\n",
    "                c[i, j] = c[i, j - 1]\n",
    "                b[i - 1, j - 1] = \"←\"\n",
    "    return c, b\n",
    "\n",
    "\n",
    "def restore_lcs(i, j, LCS):\n",
    "    if i == -1 or j == -1:\n",
    "        return\n",
    "    if b[i, j] == \"↖\":\n",
    "        restore_lcs(i - 1, j - 1, LCS)\n",
    "        LCS.append(X[i])\n",
    "    elif b[i, j] == \"↑\":\n",
    "        restore_lcs(i - 1, j, LCS)\n",
    "    else:\n",
    "        restore_lcs(i, j - 1, LCS)\n",
    "\n",
    "\n",
    "X = [\"A\", \"B\", \"C\", \"B\", \"D\", \"A\", \"B\"]\n",
    "Y = [\"B\", \"D\", \"C\", \"A\", \"B\", \"A\"]\n",
    "c, b = lcs(X, Y)\n",
    "print(c)\n",
    "print(b)\n",
    "\n",
    "LCS = []\n",
    "restore_lcs(len(X) - 1, len(Y) - 1, LCS)\n",
    "print(LCS)"
   ]
  }
 ],
 "metadata": {
  "kernelspec": {
   "display_name": "Python 3",
   "language": "python",
   "name": "python3"
  },
  "language_info": {
   "codemirror_mode": {
    "name": "ipython",
    "version": 3
   },
   "file_extension": ".py",
   "mimetype": "text/x-python",
   "name": "python",
   "nbconvert_exporter": "python",
   "pygments_lexer": "ipython3",
   "version": "3.12.7"
  },
  "orig_nbformat": 4
 },
 "nbformat": 4,
 "nbformat_minor": 2
}
