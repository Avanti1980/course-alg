{
 "cells": [
  {
   "cell_type": "code",
   "execution_count": 1,
   "metadata": {},
   "outputs": [
    {
     "name": "stdout",
     "output_type": "stream",
     "text": [
      "[[0, 0, 0, 0, 0, 0, 0], [0, 0, 0, 0, 1, 1, 1], [0, 1, 1, 1, 1, 2, 2], [0, 1, 1, 2, 2, 2, 2], [0, 1, 1, 2, 2, 3, 3], [0, 1, 2, 2, 2, 3, 3], [0, 1, 2, 2, 3, 3, 4], [0, 1, 2, 2, 3, 4, 4]]\n",
      "[['↑', '↑', '↑', '↖', '←', '↖'], ['↖', '←', '←', '↑', '↖', '←'], ['↑', '↑', '↖', '←', '↑', '↑'], ['↖', '↑', '↑', '↑', '↖', '←'], ['↑', '↖', '↑', '↑', '↑', '↑'], ['↑', '↑', '↑', '↖', '↑', '↖'], ['↖', '↑', '↑', '↑', '↖', '↑']]\n",
      "['B', 'C', 'B', 'A']\n"
     ]
    }
   ],
   "source": [
    "def lcs():\n",
    "    b = [[0 for i in range(n)] for j in range(m)]\n",
    "    c = [[0 for i in range(n+1)] for j in range(m+1)]\n",
    "    for i in range(1, m+1):\n",
    "        for j in range(1, n+1):\n",
    "            if X[i-1] == Y[j-1]:           # 如果当前两个子串的最后一个字符相同\n",
    "                c[i][j] = c[i-1][j-1] + 1\n",
    "                b[i-1][j-1] = '↖'\n",
    "            elif c[i-1][j] >= c[i][j-1]:\n",
    "                c[i][j] = c[i-1][j]\n",
    "                b[i-1][j-1] = '↑'\n",
    "            else:\n",
    "                c[i][j] = c[i][j-1]\n",
    "                b[i-1][j-1] = '←'\n",
    "    return c, b\n",
    "\n",
    "\n",
    "def restore_lcs(i, j, LCS):\n",
    "    if i == -1 or j == -1:\n",
    "        return\n",
    "    if b[i][j] == '↖':\n",
    "        restore_lcs(i-1, j-1, LCS)\n",
    "        LCS.append(X[i])\n",
    "    elif b[i][j] == '↑':\n",
    "        restore_lcs(i-1, j, LCS)\n",
    "    else:\n",
    "        restore_lcs(i, j-1, LCS)\n",
    "\n",
    "\n",
    "X = ['A', 'B', 'C', 'B', 'D', 'A', 'B']\n",
    "Y = ['B', 'D', 'C', 'A', 'B', 'A']\n",
    "m, n = len(X), len(Y)\n",
    "\n",
    "c, b = lcs()\n",
    "print(c)\n",
    "print(b)\n",
    "\n",
    "LCS = []\n",
    "restore_lcs(m-1, n-1, LCS)\n",
    "print(LCS)"
   ]
  }
 ],
 "metadata": {
  "kernelspec": {
   "display_name": "Python 3.10.8 64-bit",
   "language": "python",
   "name": "python3"
  },
  "language_info": {
   "codemirror_mode": {
    "name": "ipython",
    "version": 3
   },
   "file_extension": ".py",
   "mimetype": "text/x-python",
   "name": "python",
   "nbconvert_exporter": "python",
   "pygments_lexer": "ipython3",
   "version": "3.10.8"
  },
  "orig_nbformat": 4,
  "vscode": {
   "interpreter": {
    "hash": "e7370f93d1d0cde622a1f8e1c04877d8463912d04d973331ad4851f04de6915a"
   }
  }
 },
 "nbformat": 4,
 "nbformat_minor": 2
}
