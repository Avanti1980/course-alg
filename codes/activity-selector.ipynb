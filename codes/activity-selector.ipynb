{
 "cells": [
  {
   "cell_type": "code",
   "execution_count": 3,
   "metadata": {},
   "outputs": [
    {
     "name": "stdout",
     "output_type": "stream",
     "text": [
      "[1, 4, 8, 11]\n",
      "[1, 4, 8, 11]\n"
     ]
    }
   ],
   "source": [
    "def activity_selector_rec(k, a):\n",
    "    m = k + 1\n",
    "    while m < n and s[m] < f[k]:  # 贪心选择寻找ak之后最早结束的活动\n",
    "        m = m + 1\n",
    "    if m < n:        # 若找到 将其加入集合 递归寻找下一个兼容活动\n",
    "        a.append(m)  # 将am加入集合\n",
    "        activity_selector_rec(m, a)\n",
    "\n",
    "\n",
    "def activity_selector_greedy():\n",
    "    a = [1]                # a1直接选择\n",
    "    k = 1\n",
    "    for m in range(1, n):  # 从前向后遍历a1之后的活动\n",
    "        if s[m] > f[k]:    # 若找到ak之后最早结束的活动am\n",
    "            a.append(m)    # 将am加入集合\n",
    "            k = m          # 从am之后的活动中继续寻找\n",
    "    return a\n",
    "\n",
    "\n",
    "s = [0, 1, 3, 0, 5, 3, 5, 6, 8, 8, 2, 12]      # 开始时间\n",
    "f = [0, 4, 5, 6, 7, 9, 9, 10, 11, 12, 14, 16]  # 结束时间 已排好序\n",
    "n = len(s)\n",
    "\n",
    "a = []\n",
    "activity_selector_rec(0, a)\n",
    "print(a)\n",
    "\n",
    "print(activity_selector_greedy())"
   ]
  }
 ],
 "metadata": {
  "kernelspec": {
   "display_name": "Python 3.10.8 64-bit",
   "language": "python",
   "name": "python3"
  },
  "language_info": {
   "codemirror_mode": {
    "name": "ipython",
    "version": 3
   },
   "file_extension": ".py",
   "mimetype": "text/x-python",
   "name": "python",
   "nbconvert_exporter": "python",
   "pygments_lexer": "ipython3",
   "version": "3.10.8"
  },
  "orig_nbformat": 4,
  "vscode": {
   "interpreter": {
    "hash": "e7370f93d1d0cde622a1f8e1c04877d8463912d04d973331ad4851f04de6915a"
   }
  }
 },
 "nbformat": 4,
 "nbformat_minor": 2
}
