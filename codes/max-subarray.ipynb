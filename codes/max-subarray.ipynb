{
 "cells": [
  {
   "cell_type": "code",
   "execution_count": 1,
   "metadata": {},
   "outputs": [
    {
     "name": "stdout",
     "output_type": "stream",
     "text": [
      "(7, 10, 43)\n",
      "43\n",
      "(7, 10, 43)\n"
     ]
    }
   ],
   "source": [
    "import numpy as np\n",
    "\n",
    "\n",
    "def find_max_subarray(A, low, high):  # 返回最大子数组的起始索引、结束索引、和\n",
    "\n",
    "    if low == high:\n",
    "        return low, high, A[low]\n",
    "\n",
    "    mid = int((low+high)/2)\n",
    "\n",
    "    # 递归求解左半数组\n",
    "    l_low, l_high, l_sum = find_max_subarray(A, low, mid)\n",
    "\n",
    "    # 递归求解右半数组\n",
    "    r_low, r_high, r_sum = find_max_subarray(A, mid+1, high)\n",
    "\n",
    "    # 处理跨越中点的情况\n",
    "    c_low, c_high, c_sum = find_max_cross_subarray(A, low, mid, high)\n",
    "\n",
    "    # 比较三种情况：\n",
    "    if l_sum > r_sum and l_sum > c_sum:\n",
    "        return l_low, l_high, l_sum\n",
    "    elif l_sum < c_sum and r_sum < c_sum:\n",
    "        return c_low, c_high, c_sum\n",
    "    else:\n",
    "        return r_low, r_high, r_sum\n",
    "\n",
    "\n",
    "def find_max_cross_subarray(A, low, mid, high):\n",
    "    l_sum = r_sum = -float(\"inf\")\n",
    "\n",
    "    sum = 0  # 找左边的最大子数组\n",
    "    for i in range(mid, low-1, -1):\n",
    "        sum += A[i]\n",
    "        if sum > l_sum:\n",
    "            l_sum, l_index = sum, i\n",
    "\n",
    "    sum = 0  # 找右边的最大子数组\n",
    "    for i in range(mid+1, high+1):\n",
    "        sum += A[i]\n",
    "        if sum > r_sum:\n",
    "            r_sum, r_index = sum, i\n",
    "\n",
    "    return l_index, r_index, l_sum + r_sum\n",
    "\n",
    "\n",
    "def find_max_subarray_dp(A, n):\n",
    "    dp = [0] * n  # dp[i]为以A[i]作结尾的最大子数组的和\n",
    "    dp[0] = A[0]\n",
    "    for i in range(1, n):\n",
    "        if dp[i-1] >= 0:\n",
    "            dp[i] = dp[i-1] + A[i]\n",
    "        else:\n",
    "            dp[i] = A[i]\n",
    "    return max(dp)\n",
    "\n",
    "\n",
    "def find_max_subarray_dp2(A, n):\n",
    "    dp = [0] * n  # dp[i]为以A[i]作结尾的最大子数组的和\n",
    "    s = [0] * n   # s[i]为以A[i]作结尾的最大子数组的起始索引\n",
    "    dp[0], s[0] = A[0], 0\n",
    "    for i in range(1, n):\n",
    "        if dp[i-1] >= 0:\n",
    "            dp[i] = dp[i-1] + A[i]\n",
    "            s[i] = s[i-1]\n",
    "        else:\n",
    "            dp[i] = A[i]\n",
    "            s[i] = i\n",
    "    max_index = np.argmax(dp)\n",
    "    return s[max_index], max_index, dp[max_index]\n",
    "\n",
    "\n",
    "A = [13, -3, -25, 20, -3, -16, -23, 18, 20, -7, 12, -5, -22, 15, -4, 7]\n",
    "\n",
    "print(find_max_subarray(A, 0, len(A)-1))\n",
    "print(find_max_subarray_dp(A, len(A)))\n",
    "print(find_max_subarray_dp2(A, len(A)))\n"
   ]
  }
 ],
 "metadata": {
  "kernelspec": {
   "display_name": "Python 3.10.8 64-bit",
   "language": "python",
   "name": "python3"
  },
  "language_info": {
   "codemirror_mode": {
    "name": "ipython",
    "version": 3
   },
   "file_extension": ".py",
   "mimetype": "text/x-python",
   "name": "python",
   "nbconvert_exporter": "python",
   "pygments_lexer": "ipython3",
   "version": "3.10.8"
  },
  "orig_nbformat": 4,
  "vscode": {
   "interpreter": {
    "hash": "e7370f93d1d0cde622a1f8e1c04877d8463912d04d973331ad4851f04de6915a"
   }
  }
 },
 "nbformat": 4,
 "nbformat_minor": 2
}
