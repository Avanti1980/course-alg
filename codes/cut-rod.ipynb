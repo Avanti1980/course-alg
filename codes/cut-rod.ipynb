{
 "cells": [
  {
   "cell_type": "code",
   "execution_count": 1,
   "metadata": {},
   "outputs": [
    {
     "name": "stdout",
     "output_type": "stream",
     "text": [
      "18\n",
      "18\n",
      "18\n",
      "18\n",
      "1 6 "
     ]
    }
   ],
   "source": [
    "from math import ceil  # 向上取整\n",
    "\n",
    "\n",
    "def cut_rod_rec(p, n):  # 分治 单子问题\n",
    "    if n == 1:\n",
    "        return p[1]\n",
    "    else:\n",
    "        v = p[n]\n",
    "        for i in range(1, n):\n",
    "            v = max(v, p[i] + cut_rod_rec(p, n-i))\n",
    "    return v\n",
    "\n",
    "\n",
    "def cut_rod_rec2(p, n):  # 分治 双子问题\n",
    "    if n == 1:\n",
    "        return p[1]\n",
    "    else:\n",
    "        v = p[n]\n",
    "        for i in range(1, ceil(n/2)):\n",
    "            v = max(v, cut_rod_rec2(p, i) + cut_rod_rec2(p, n-i))\n",
    "    return v\n",
    "\n",
    "\n",
    "def cut_rod_dp_memoized(p, n):\n",
    "    r = [-float(\"inf\")] * len(p)  # 初始化为负无穷\n",
    "    return cut_rod_dp_memoized_aux(p, n, r)\n",
    "\n",
    "\n",
    "def cut_rod_dp_memoized_aux(p, n, r):\n",
    "    if r[n] >= 0:  # 查表 若之前已计算过就直接用\n",
    "        return r[n]\n",
    "    if n == 0:\n",
    "        v = 0\n",
    "    else:\n",
    "        v = -float(\"inf\")\n",
    "        for i in range(1, n+1):\n",
    "            v = max(v, p[i] + cut_rod_dp_memoized_aux(p, n-i, r))\n",
    "    r[n] = v  # 保存当前计算的结果\n",
    "    return v\n",
    "\n",
    "\n",
    "def cut_rod_dp_bottom_up(p, n):\n",
    "    r = [0] * len(p)\n",
    "    for j in range(1, n+1):  # 依次求解 r[1], r[2], ...\n",
    "        v = -float(\"inf\")\n",
    "        for i in range(1, j+1):  # 求解 r[j] 时 遍历 i = 1, 2, ..., j\n",
    "            v = max(v, p[i] + r[j-i])  # 此时 r[1], r[2], ..., r[j-1] 均已求好\n",
    "        r[j] = v\n",
    "    return r[n]\n",
    "\n",
    "\n",
    "def cut_rod_dp_bottom_up_print_sol(p, n):\n",
    "    r = [0] * len(p)\n",
    "    s = [0] * len(p)  # s[i]是长度为i的钢条的第一刀最优切割位置\n",
    "    for j in range(1, n+1):\n",
    "        v = -float(\"inf\")\n",
    "        for i in range(1, j+1):\n",
    "            if v < p[i] + r[j-i]:\n",
    "                v = p[i] + r[j-i]\n",
    "                s[j] = i  # 更新最优切割位置\n",
    "        r[j] = v\n",
    "    while n > 0:  # 打印最优切割方案\n",
    "        print(s[n], end=' ')\n",
    "        n = n - s[n]\n",
    "\n",
    "\n",
    "p = [0, 1, 5, 8, 9, 10, 17, 17, 20, 24, 30]   # 价格表\n",
    "print(cut_rod_rec(p, 7))\n",
    "print(cut_rod_rec2(p, 7))\n",
    "print(cut_rod_dp_memoized(p, 7))\n",
    "print(cut_rod_dp_bottom_up(p, 7))\n",
    "cut_rod_dp_bottom_up_print_sol(p, 7)\n"
   ]
  }
 ],
 "metadata": {
  "kernelspec": {
   "display_name": "Python 3.10.8 64-bit",
   "language": "python",
   "name": "python3"
  },
  "language_info": {
   "codemirror_mode": {
    "name": "ipython",
    "version": 3
   },
   "file_extension": ".py",
   "mimetype": "text/x-python",
   "name": "python",
   "nbconvert_exporter": "python",
   "pygments_lexer": "ipython3",
   "version": "3.10.8"
  },
  "orig_nbformat": 4,
  "vscode": {
   "interpreter": {
    "hash": "e7370f93d1d0cde622a1f8e1c04877d8463912d04d973331ad4851f04de6915a"
   }
  }
 },
 "nbformat": 4,
 "nbformat_minor": 2
}
