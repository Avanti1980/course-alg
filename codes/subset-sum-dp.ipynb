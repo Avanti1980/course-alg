{
 "cells": [
  {
   "cell_type": "code",
   "execution_count": 5,
   "metadata": {},
   "outputs": [
    {
     "name": "stdout",
     "output_type": "stream",
     "text": [
      "True\n",
      "7 + 11 + 13 = 31\n",
      "7 + 24 = 31\n"
     ]
    }
   ],
   "source": [
    "import numpy as np\n",
    "\n",
    "\n",
    "def subset_sum_dp(w, M):\n",
    "    n = len(w)\n",
    "    ss = np.zeros((n, M + 1), dtype='bool')\n",
    "    ss[:, 0] = True                # 第0列全为真\n",
    "    if w[-1] <= M:\n",
    "        ss[-1, w[-1]] = True       # 填最后一行\n",
    "    for i in range(n - 2, 0, -1):  # 从下往上填\n",
    "        for m in range(1, M + 1):  # 每行从左往右填\n",
    "            if m < w[i]:           # 如果目标和小于w[i]\n",
    "                ss[i, m] = ss[i + 1, m]\n",
    "            else:\n",
    "                ss[i, m] = ss[i + 1, m] or ss[i + 1, m - w[i]]\n",
    "    return ss\n",
    "\n",
    "\n",
    "def print_sol(ss, w, i, m, M, list):\n",
    "    if w[i] == m:  # 如果当前目标和等于w[i] 则找到一个解\n",
    "        for j in list:\n",
    "            print(\"%d + \" % j, end='')\n",
    "        print(\"%d = %d\" % (w[i], M))\n",
    "    else:\n",
    "        if ss[i + 1, m - w[i]]:  # 如果w[i]是加数之一\n",
    "            list.append(w[i])    # 入栈\n",
    "            print_sol(ss, w, i + 1, m - w[i], M, list)\n",
    "            list.pop()           # 出栈\n",
    "        if ss[i + 1, m]:\n",
    "            print_sol(ss, w, i + 1, m, M, list)\n",
    "\n",
    "\n",
    "w, M = [0, 7, 11, 13, 24], 31\n",
    "ss = subset_sum_dp(w, M)\n",
    "print(ss[1, M])\n",
    "print_sol(ss, w, 1, M, M, [])"
   ]
  },
  {
   "cell_type": "code",
   "execution_count": 4,
   "metadata": {},
   "outputs": [
    {
     "name": "stdout",
     "output_type": "stream",
     "text": [
      "True\n",
      "5 + 10 + 15 = 30\n",
      "5 + 12 + 13 = 30\n",
      "12 + 18 = 30\n"
     ]
    }
   ],
   "source": [
    "w, M = [0, 5, 10, 12, 13, 15, 18], 30\n",
    "ss = subset_sum_dp(w, M)\n",
    "print(ss[1, M])\n",
    "print_sol(ss, w, 1, M, M, [])"
   ]
  }
 ],
 "metadata": {
  "kernelspec": {
   "display_name": "Python 3",
   "language": "python",
   "name": "python3"
  },
  "language_info": {
   "codemirror_mode": {
    "name": "ipython",
    "version": 3
   },
   "file_extension": ".py",
   "mimetype": "text/x-python",
   "name": "python",
   "nbconvert_exporter": "python",
   "pygments_lexer": "ipython3",
   "version": "3.12.7"
  }
 },
 "nbformat": 4,
 "nbformat_minor": 2
}
