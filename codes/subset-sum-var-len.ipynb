{
 "cells": [
  {
   "cell_type": "code",
   "execution_count": 3,
   "metadata": {},
   "outputs": [
    {
     "name": "stdout",
     "output_type": "stream",
     "text": [
      "[1, 2, 5]\n",
      "[1, 3, 4]\n",
      "[3, 6]\n"
     ]
    }
   ],
   "source": [
    "def subset_sum(i, s, left, x):\n",
    "    # i s left x = 待选数最小下标 已选数之和 剩余数之和 当前元组\n",
    "    # print(i, s, left)\n",
    "    if i > n:\n",
    "        return\n",
    "    else:\n",
    "        for j in range(i, n):  # 依次尝试选择 w_i, w_i+1, ..., w_n\n",
    "            if s + w[j] == M:  # 若加上w[j]是一个解 输出\n",
    "                x.append(j)\n",
    "                print(x)\n",
    "                x.pop()\n",
    "            elif j < n-1:  # 否则 若选择w[j]可满足限界条件 递归\n",
    "                if s + left >= M and s + w[j] + w[j + 1] <= M:\n",
    "                    x.append(j)\n",
    "                    subset_sum(j + 1, s + w[j], left - w[j], x)\n",
    "                    x.pop()\n",
    "\n",
    "\n",
    "w, M = [0, 5, 10, 12, 13, 15, 18], 30\n",
    "n = len(w)\n",
    "x = []\n",
    "subset_sum(1, 0, sum(w), x)"
   ]
  }
 ],
 "metadata": {
  "kernelspec": {
   "display_name": "Python 3.10.8 64-bit",
   "language": "python",
   "name": "python3"
  },
  "language_info": {
   "codemirror_mode": {
    "name": "ipython",
    "version": 3
   },
   "file_extension": ".py",
   "mimetype": "text/x-python",
   "name": "python",
   "nbconvert_exporter": "python",
   "pygments_lexer": "ipython3",
   "version": "3.10.8"
  },
  "orig_nbformat": 4,
  "vscode": {
   "interpreter": {
    "hash": "e7370f93d1d0cde622a1f8e1c04877d8463912d04d973331ad4851f04de6915a"
   }
  }
 },
 "nbformat": 4,
 "nbformat_minor": 2
}
