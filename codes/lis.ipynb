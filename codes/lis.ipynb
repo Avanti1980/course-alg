{
 "cells": [
  {
   "cell_type": "code",
   "execution_count": 1,
   "metadata": {},
   "outputs": [
    {
     "name": "stdout",
     "output_type": "stream",
     "text": [
      "X = [3 5 4 1 0 6 7 2 9 8]\n",
      "LIS = [3, 5, 6, 7, 9]\n",
      "LIS = [3, 4, 6, 7, 8]\n"
     ]
    }
   ],
   "source": [
    "from bisect import bisect_left\n",
    "\n",
    "import numpy as np\n",
    "\n",
    "# np.random.seed(0)\n",
    "\n",
    "\n",
    "def lis_dp(X, n):\n",
    "    d, b = [1] * n, [-1] * n\n",
    "    for i in range(1, n):\n",
    "        for j in range(i):\n",
    "            if X[j] < X[i] and d[i] < d[j] + 1:  # X[i]可接在X[j]后面\n",
    "                d[i] = d[j] + 1\n",
    "                b[i] = j  # 更新前一个元素的索引\n",
    "    return d, b\n",
    "\n",
    "\n",
    "def restore_lis_dp(X, b, index, LIS):\n",
    "    if index == -1:\n",
    "        return\n",
    "    restore_lis_dp(X, b, b[index], LIS)\n",
    "    LIS.append(X[index])\n",
    "\n",
    "\n",
    "def lis_dp_plus(X, n):\n",
    "    e = []\n",
    "    b = [-1] * n  # b[i]记录i在LIS中的前一个元素的值\n",
    "    for i in range(n):\n",
    "        j = bisect_left(e, X[i])  # 在e中对X[i]进行二分查找\n",
    "        if j == len(e):           # X[i] > e[-1]\n",
    "            if j > 0:\n",
    "                b[i] = e[-1]\n",
    "            e.append(X[i])        # 将其接在e后面表示找到了更长的递增子序列\n",
    "        else:                     # e[j-1] < X[i] < e[j]\n",
    "            if j > 0:\n",
    "                b[i] = e[j-1]\n",
    "            e[j] = X[i]           # 将e[j]改为X[i] 可以改进现有长度为j的递增子序列\n",
    "    return e, b\n",
    "\n",
    "\n",
    "def restore_lis_dp_plus(X, e, b):\n",
    "    dict = {key: value for key, value in zip(X, range(n))}  # 倒排索引字典 X[i]: i\n",
    "    pre = e[-1]  # e的最后一个元素是LIS的最后一个元素\n",
    "    LIS = []\n",
    "    restore_lis_dp_plus_aux(dict, b, pre, LIS)  # 从最后一个元素开始 向前将LIS构造出来\n",
    "    return LIS\n",
    "\n",
    "\n",
    "def restore_lis_dp_plus_aux(dict, b, pre, LIS):\n",
    "    if pre < 0:\n",
    "        return\n",
    "    restore_lis_dp_plus_aux(dict, b, b[dict[pre]], LIS)\n",
    "    LIS.append(pre)\n",
    "\n",
    "\n",
    "n = 10\n",
    "X = np.random.permutation(n)\n",
    "print('X =', X)\n",
    "\n",
    "d, b = lis_dp(X, n)\n",
    "# print('d: %s' % d)\n",
    "# print('b: %s' % b)\n",
    "\n",
    "LIS = []\n",
    "restore_lis_dp(X, b, np.argmax(d), LIS)\n",
    "print('LIS =', LIS)\n",
    "\n",
    "e, b = lis_dp_plus(X, n)\n",
    "# print('e: %s' % e)\n",
    "# print('b: %s' % b)\n",
    "\n",
    "LIS = restore_lis_dp_plus(X, e, b)\n",
    "print('LIS =', LIS)\n"
   ]
  }
 ],
 "metadata": {
  "kernelspec": {
   "display_name": "Python 3.10.8 64-bit",
   "language": "python",
   "name": "python3"
  },
  "language_info": {
   "codemirror_mode": {
    "name": "ipython",
    "version": 3
   },
   "file_extension": ".py",
   "mimetype": "text/x-python",
   "name": "python",
   "nbconvert_exporter": "python",
   "pygments_lexer": "ipython3",
   "version": "3.10.8"
  },
  "orig_nbformat": 4,
  "vscode": {
   "interpreter": {
    "hash": "e7370f93d1d0cde622a1f8e1c04877d8463912d04d973331ad4851f04de6915a"
   }
  }
 },
 "nbformat": 4,
 "nbformat_minor": 2
}
