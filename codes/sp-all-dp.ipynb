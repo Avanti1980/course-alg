{
 "cells": [
  {
   "cell_type": "code",
   "execution_count": 1,
   "metadata": {},
   "outputs": [
    {
     "name": "stdout",
     "output_type": "stream",
     "text": [
      "[[0, 1, -3, 2, -4], [3, 0, -4, 1, -1], [7, 4, 0, 5, 3], [2, -1, -5, 0, -2], [8, 5, 1, 6, 0]] [[None, 3, 4, 5, 1], [4, None, 4, 2, 1], [4, 3, None, 2, 1], [4, 3, 4, None, 1], [4, 3, 4, 5, None]]\n",
      "[[0, 1, -3, 2, -4], [3, 0, -4, 1, -1], [7, 4, 0, 5, 3], [2, -1, -5, 0, -2], [8, 5, 1, 6, 0]] [[None, 3, 4, 5, 1], [4, None, 4, 2, 1], [4, 3, None, 2, 1], [4, 3, 4, None, 1], [4, 3, 4, 5, None]]\n",
      "[[0, 1, -3, 2, -4], [3, 0, -4, 1, -1], [7, 4, 0, 5, 3], [2, -1, -5, 0, -2], [8, 5, 1, 6, 0]] [[None, 3, 4, 5, 1], [4, None, 4, 2, 1], [4, 3, None, 2, 1], [4, 3, 4, None, 1], [4, 3, 4, 5, None]]\n"
     ]
    }
   ],
   "source": [
    "def init_p(w):  # 初始化前驱矩阵\n",
    "    p = [[None for _ in range(n)] for _ in range(n)]\n",
    "    for i in range(n):\n",
    "        for j in range(n):\n",
    "            if j != i and w[i][j] < float(\"inf\"):\n",
    "                p[i][j] = i + 1\n",
    "    return p\n",
    "\n",
    "\n",
    "def sp_all_dp(w, n):\n",
    "    l = [[w[i][j] for j in range(n)] for i in range(n)]\n",
    "    p = init_p(w)  # 初始化前驱矩阵\n",
    "    for m in range(n-2):\n",
    "        sp_all_dp_extend(l, p, w, n)\n",
    "    return l, p\n",
    "\n",
    "\n",
    "def sp_all_dp_extend(l, p, w, n):\n",
    "    ll = [[l[i][j] for j in range(n)] for i in range(n)]  # 备份上一轮的L\n",
    "    for i in range(n):\n",
    "        for j in range(n):\n",
    "            for k in range(n):\n",
    "                if ll[i][k] + w[k][j] < l[i][j]:\n",
    "                    l[i][j] = ll[i][k] + w[k][j]  # 更新L\n",
    "                    p[i][j] = k + 1               # 更新前驱\n",
    "\n",
    "\n",
    "def sp_all_dp_plus(w, n):\n",
    "    l = [[w[i][j] for j in range(n)] for i in range(n)]\n",
    "    p = init_p(w)  # 初始化前驱矩阵\n",
    "    m = 1\n",
    "    while m < n-1:\n",
    "        sp_all_dp_plus_extend(l, p, n)\n",
    "        m *= 2\n",
    "    return l, p\n",
    "\n",
    "\n",
    "def sp_all_dp_plus_extend(l, p, n):\n",
    "    ll = [[l[i][j] for j in range(n)] for i in range(n)]  # 备份上一轮的L\n",
    "    for i in range(n):\n",
    "        for j in range(n):\n",
    "            for k in range(n):\n",
    "                if ll[i][k] + ll[k][j] < l[i][j]:\n",
    "                    l[i][j] = ll[i][k] + ll[k][j]  # 更新L\n",
    "                    p[i][j] = p[k][j]              # 更新前驱\n",
    "\n",
    "\n",
    "def floyd_warshall(w, n):\n",
    "    d = [[w[i][j] for j in range(n)] for i in range(n)]\n",
    "    p = init_p(w)  # 初始化前驱矩阵\n",
    "    for k in range(n):\n",
    "        dd = [[d[i][j] for j in range(n)] for i in range(n)]  # 备份上一轮的d\n",
    "        for i in range(n):\n",
    "            for j in range(n):\n",
    "                if dd[i][k] + dd[k][j] < d[i][j]:\n",
    "                    d[i][j] = dd[i][k] + dd[k][j]  # 更新d\n",
    "                    p[i][j] = p[k][j]              # 更新前驱\n",
    "    return d, p\n",
    "\n",
    "\n",
    "# 邻接矩阵\n",
    "w = [[0, 3, 8, float('inf'), -4],\n",
    "     [float('inf'), 0, float('inf'), 1, 7],\n",
    "     [float('inf'), 4, 0, float('inf'), float('inf')],\n",
    "     [2, float('inf'), -5, 0, float('inf')],\n",
    "     [float('inf'), float('inf'), float('inf'), 6, 0]\n",
    "     ]\n",
    "n = len(w)\n",
    "\n",
    "l, p = sp_all_dp(w, n)\n",
    "print(l, p)\n",
    "\n",
    "l, p = sp_all_dp_plus(w, n)\n",
    "print(l, p)\n",
    "\n",
    "d, p = floyd_warshall(w, n)\n",
    "print(d, p)\n"
   ]
  }
 ],
 "metadata": {
  "kernelspec": {
   "display_name": "Python 3.10.8 64-bit",
   "language": "python",
   "name": "python3"
  },
  "language_info": {
   "codemirror_mode": {
    "name": "ipython",
    "version": 3
   },
   "file_extension": ".py",
   "mimetype": "text/x-python",
   "name": "python",
   "nbconvert_exporter": "python",
   "pygments_lexer": "ipython3",
   "version": "3.10.8"
  },
  "orig_nbformat": 4,
  "vscode": {
   "interpreter": {
    "hash": "e7370f93d1d0cde622a1f8e1c04877d8463912d04d973331ad4851f04de6915a"
   }
  }
 },
 "nbformat": 4,
 "nbformat_minor": 2
}
