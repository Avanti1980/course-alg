{
 "cells": [
  {
   "cell_type": "code",
   "execution_count": 2,
   "metadata": {},
   "outputs": [
    {
     "name": "stdout",
     "output_type": "stream",
     "text": [
      "{'1': {'1': 0, '2': 1, '3': -3, '4': 2, '5': -4}, '2': {'1': 3, '2': 0, '3': -4, '4': 1, '5': -1}, '3': {'1': 7, '2': 4, '3': 0, '4': 5, '5': 3}, '4': {'1': 2, '2': -1, '3': -5, '4': 0, '5': -2}, '5': {'1': 8, '2': 5, '3': 1, '4': 6, '5': 0}}\n"
     ]
    }
   ],
   "source": [
    "def bellman_ford(s):\n",
    "    d = dict()\n",
    "    for v in g:  # 距离初始化为无穷大 前驱初始化为空\n",
    "        d[v] = float(\"inf\")\n",
    "    d[s] = 0  # 源点到自己的最短路径长度为零\n",
    "\n",
    "    for _ in range(len(g) - 1):  # 遍历|V|-1次\n",
    "        for u in g:\n",
    "            for v in g[u]:  # 内部的二重for循环遍历所有边\n",
    "                d[v] = min(d[v], d[u] + g[u][v])  # 松弛\n",
    "\n",
    "    for u in g:\n",
    "        for v in g[u]:\n",
    "            assert (d[v] <= d[u] + g[u][v]), \"有负环\"\n",
    "\n",
    "    return d\n",
    "\n",
    "\n",
    "def dijkstra(s):\n",
    "    d, in_S = dict(), dict()\n",
    "    for v in g:  # 距离初始化为无穷大 前驱初始化为空 S为空集\n",
    "        d[v], in_S[v] = float(\"inf\"), False\n",
    "    d[s] = 0  # 源点到自己的最短路径长度为零\n",
    "\n",
    "    for _ in range(len(g)):\n",
    "        min_value = float('inf')\n",
    "        u = None\n",
    "\n",
    "        # 遍历所有点 寻找不在S中且最短路径估计值最小的点\n",
    "        # 我们这儿就是用个无序的字典实现d[] 遍历找最小时间复杂度O(V)\n",
    "        # d[]可以用二叉堆、斐波那契堆等数据结构实现 找最小的时间复杂度可以改进\n",
    "        for v in g:\n",
    "            if not in_S[v] and d[v] < min_value:\n",
    "                min_value = d[v]\n",
    "                u = v\n",
    "\n",
    "        if u != None:\n",
    "            in_S[u] = True  # 将u加入S\n",
    "            for v in g[u]:  # 更新u指向的点的最短路径的估计值\n",
    "                d[v] = min(d[v], d[u] + g[u][v])  # 松弛\n",
    "\n",
    "    return d\n",
    "\n",
    "\n",
    "g = {\n",
    "    \"1\": {\"2\": 3, \"3\": 8, \"5\": -4},  # w(1,2) = 3, w(1,3) = 8, w(1,5) = -4\n",
    "    \"2\": {\"4\": 1, \"5\": 7},           # w(2,4) = 1, w(2,5) = 7\n",
    "    \"3\": {\"2\": 4},                   # w(3,2) = 4\n",
    "    \"4\": {\"1\": 2, \"3\": -5},          # w(4,1) = 2, w(4,3) = -5\n",
    "    \"5\": {\"4\": 6},                   # w(5,4) = 6\n",
    "}\n",
    "g[\"0\"] = {\"1\": 0, \"2\": 0, \"3\": 0, \"4\": 0, \"5\": 0}  # 添加新结点0\n",
    "h = bellman_ford(s=\"0\")  # 以0为源点运行Bellman-Ford算法\n",
    "\n",
    "for u in g:\n",
    "    for v in g[u]:\n",
    "        g[u][v] += h[u] - h[v]  # 根据h重新给边赋权\n",
    "\n",
    "D = dict()\n",
    "for u in g:\n",
    "    if u != \"0\":\n",
    "        D[u] = dijkstra(u)  # 以每个结点为源点运行Dijkstra算法\n",
    "        del D[u][\"0\"]\n",
    "\n",
    "del g[\"0\"]\n",
    "\n",
    "for u in g:\n",
    "    for v in g:\n",
    "        D[u][v] += h[v] - h[u]  # 还原原权重下的最短路径长度\n",
    "\n",
    "print(D)"
   ]
  }
 ],
 "metadata": {
  "kernelspec": {
   "display_name": "Python 3.10.8 64-bit",
   "language": "python",
   "name": "python3"
  },
  "language_info": {
   "codemirror_mode": {
    "name": "ipython",
    "version": 3
   },
   "file_extension": ".py",
   "mimetype": "text/x-python",
   "name": "python",
   "nbconvert_exporter": "python",
   "pygments_lexer": "ipython3",
   "version": "3.10.8"
  },
  "orig_nbformat": 4,
  "vscode": {
   "interpreter": {
    "hash": "e7370f93d1d0cde622a1f8e1c04877d8463912d04d973331ad4851f04de6915a"
   }
  }
 },
 "nbformat": 4,
 "nbformat_minor": 2
}
