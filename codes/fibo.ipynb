{
 "cells": [
  {
   "cell_type": "code",
   "execution_count": 2,
   "metadata": {},
   "outputs": [
    {
     "name": "stdout",
     "output_type": "stream",
     "text": [
      "2178309\n",
      "2178309\n",
      "2178309\n",
      "2178309\n",
      "(1346269, 2178309)\n"
     ]
    }
   ],
   "source": [
    "def fibo_rec(n):  # 分治法\n",
    "    if n <= 1:\n",
    "        return n\n",
    "    else:  # 递归求解两个子问题\n",
    "        return fibo_rec(n - 1) + fibo_rec(n - 2)\n",
    "\n",
    "\n",
    "def fibo_dp_memoized(n):\n",
    "    F = [-float(\"inf\")] * (n + 1)  # 备忘录初始化为负无穷\n",
    "    return fibo_dp_memoized_aux(n, F)\n",
    "\n",
    "\n",
    "def fibo_dp_memoized_aux(n, F):\n",
    "    if n <= 1:\n",
    "        return n\n",
    "    else:\n",
    "        if F[n] >= 0:\n",
    "            return F[n]\n",
    "        else:\n",
    "            F[n] = fibo_dp_memoized_aux(n - 1, F) + fibo_dp_memoized_aux(n - 2, F)\n",
    "            return F[n]\n",
    "\n",
    "\n",
    "def fibo_dp_iter(n):\n",
    "    F = [0] * (n + 1)\n",
    "    F[1] = 1\n",
    "    for i in range(2, n + 1):\n",
    "        F[i] = F[i - 1] + F[i - 2]\n",
    "    return F[n]\n",
    "\n",
    "\n",
    "def fibo_dp_iter2(n):\n",
    "    prev, curr = 0, 1\n",
    "    for i in range(n - 1):\n",
    "        next = prev + curr\n",
    "        prev, curr = curr, next\n",
    "    return curr\n",
    "\n",
    "\n",
    "def fibo_rec_faster(n):\n",
    "    if n == 1:\n",
    "        return 0, 1\n",
    "    m = int(n / 2)\n",
    "    prev_, curr_ = fibo_rec_faster(m)\n",
    "    prev = prev_**2 + curr_**2\n",
    "    curr = curr_ * (2 * prev_ + curr_)\n",
    "    next = prev + curr\n",
    "    if n & 1:\n",
    "        return curr, next\n",
    "    else:\n",
    "        return prev, curr\n",
    "\n",
    "\n",
    "n = 32\n",
    "print(fibo_rec(n))\n",
    "print(fibo_dp_memoized(n))\n",
    "print(fibo_dp_iter(n))\n",
    "print(fibo_dp_iter2(n))\n",
    "print(fibo_rec_faster(n))"
   ]
  }
 ],
 "metadata": {
  "kernelspec": {
   "display_name": "Python 3",
   "language": "python",
   "name": "python3"
  },
  "language_info": {
   "codemirror_mode": {
    "name": "ipython",
    "version": 3
   },
   "file_extension": ".py",
   "mimetype": "text/x-python",
   "name": "python",
   "nbconvert_exporter": "python",
   "pygments_lexer": "ipython3",
   "version": "3.12.7"
  }
 },
 "nbformat": 4,
 "nbformat_minor": 2
}
