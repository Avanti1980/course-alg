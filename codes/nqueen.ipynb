{
 "cells": [
  {
   "cell_type": "code",
   "execution_count": 2,
   "metadata": {},
   "outputs": [
    {
     "name": "stdout",
     "output_type": "stream",
     "text": [
      "[1, 3, 0, 2]\n",
      "[2, 0, 3, 1]\n",
      "2\n",
      "[1, 3, 0, 2]\n",
      "[2, 0, 3, 1]\n"
     ]
    }
   ],
   "source": [
    "def not_attack(queen, row, col):  # 不会被攻击吗？\n",
    "    for i in range(row):  # 遍历已在棋盘上的皇后\n",
    "        # 在同一列 或 在同一个斜角线\n",
    "        if queen[i] == col or abs(row - i) == abs(queen[i] - col):\n",
    "            return False\n",
    "    return True\n",
    "\n",
    "\n",
    "def nqueen(queen):\n",
    "    count = row = 0\n",
    "    queen[row] = 0                   # 先将皇后1放在第1列\n",
    "    while row >= 0:                  # 全部结点都检测完后会回溯到-1行\n",
    "        if queen[row] < n:           # 当前行未检测到最后一列\n",
    "            if not_attack(queen, row, queen[row]):  # 当前位置不会被攻击\n",
    "                if row == n-1:       # 已到最后一行\n",
    "                    count += 1       # 解计数+1\n",
    "                    print(queen)     # 输出\n",
    "                    row -= 1         # 返回上一行\n",
    "                    queen[row] += 1  # 上一行的皇后右移一格\n",
    "                else:\n",
    "                    row += 1         # 考虑下一行的皇后右移一格\n",
    "                    queen[row] = 0   # 将下一行的皇后放在第1列\n",
    "            else:                    # 当前位置不合法，探测当前行的下一个位置\n",
    "                queen[row] += 1\n",
    "        else:                        # 当前行已检测到最后一列\n",
    "            row -= 1                 # 返回上一行\n",
    "            queen[row] += 1          # 上一行的皇后右移一格\n",
    "    return count\n",
    "\n",
    "\n",
    "def nqueen_rec(queen, row):\n",
    "    for col in range(n):                 # 遍历n个可放位置\n",
    "        if not_attack(queen, row, col):  # 若(row, col)位置不会被攻击\n",
    "            queen[row] = col\n",
    "            if row == n - 1:             # 若是最后一个皇后 输出\n",
    "                print(queen)\n",
    "            else:\n",
    "                nqueen_rec(queen, row + 1)\n",
    "\n",
    "\n",
    "n = 4\n",
    "queen = [None for i in range(n)]\n",
    "print(nqueen(queen))\n",
    "\n",
    "queen = [None for i in range(n)]\n",
    "nqueen_rec(queen, 0)"
   ]
  }
 ],
 "metadata": {
  "kernelspec": {
   "display_name": "Python 3.10.8 64-bit",
   "language": "python",
   "name": "python3"
  },
  "language_info": {
   "codemirror_mode": {
    "name": "ipython",
    "version": 3
   },
   "file_extension": ".py",
   "mimetype": "text/x-python",
   "name": "python",
   "nbconvert_exporter": "python",
   "pygments_lexer": "ipython3",
   "version": "3.10.8"
  },
  "orig_nbformat": 4,
  "vscode": {
   "interpreter": {
    "hash": "e7370f93d1d0cde622a1f8e1c04877d8463912d04d973331ad4851f04de6915a"
   }
  }
 },
 "nbformat": 4,
 "nbformat_minor": 2
}
