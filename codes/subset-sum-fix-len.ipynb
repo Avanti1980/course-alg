{
 "cells": [
  {
   "cell_type": "code",
   "execution_count": 4,
   "metadata": {},
   "outputs": [
    {
     "name": "stdout",
     "output_type": "stream",
     "text": [
      "[1, 1, 0, 0, 1]\n",
      "[1, 0, 1, 1]\n",
      "[0, 0, 1, 0, 0, 1]\n"
     ]
    }
   ],
   "source": [
    "def subset_sum(i, s, left, x):\n",
    "    # i s left x = 待选数下标 已选数之和 剩余数之和 当前元组\n",
    "    # print(i, s, left)\n",
    "    if i > n:\n",
    "        return\n",
    "    else:\n",
    "        if s + w[i] == M:  # 若加上w[i]是一个解 输出 回溯\n",
    "            x.append(1)\n",
    "            print(x)\n",
    "            x.pop()\n",
    "            return\n",
    "        if s + left >= M and s + w[i] + w[i + 1] <= M:  # 否则 若选择w[i]可满足限界条件 递归\n",
    "            x.append(1)\n",
    "            subset_sum(i + 1, s + w[i], left - w[i], x)\n",
    "            x.pop()\n",
    "        if s - w[i] + left >= M and s + w[i + 1] <= M:  # 否则 若不选择w[i]可满足限界条件 递归\n",
    "            x.append(0)\n",
    "            subset_sum(i + 1, s, left - w[i], x)\n",
    "            x.pop()\n",
    "\n",
    "\n",
    "w, M = [0, 5, 10, 12, 13, 15, 18], 30\n",
    "n = len(w)\n",
    "x = []\n",
    "subset_sum(1, 0, sum(w), x)"
   ]
  }
 ],
 "metadata": {
  "kernelspec": {
   "display_name": "Python 3.10.8 64-bit",
   "language": "python",
   "name": "python3"
  },
  "language_info": {
   "codemirror_mode": {
    "name": "ipython",
    "version": 3
   },
   "file_extension": ".py",
   "mimetype": "text/x-python",
   "name": "python",
   "nbconvert_exporter": "python",
   "pygments_lexer": "ipython3",
   "version": "3.10.8"
  },
  "orig_nbformat": 4,
  "vscode": {
   "interpreter": {
    "hash": "e7370f93d1d0cde622a1f8e1c04877d8463912d04d973331ad4851f04de6915a"
   }
  }
 },
 "nbformat": 4,
 "nbformat_minor": 2
}
