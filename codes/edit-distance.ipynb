{
 "cells": [
  {
   "cell_type": "code",
   "execution_count": 4,
   "metadata": {},
   "outputs": [
    {
     "name": "stdout",
     "output_type": "stream",
     "text": [
      "[[0 1 2 3 4 5 6]\n",
      " [1 1 2 3 3 4 5]\n",
      " [2 1 2 3 4 3 4]\n",
      " [3 2 2 2 3 4 4]\n",
      " [4 3 3 3 3 3 4]\n",
      " [5 4 3 4 4 4 4]\n",
      " [6 5 4 4 4 5 4]\n",
      " [7 6 5 5 5 4 5]]\n",
      "[['↖' '↖' '↖' '↖' '←' '↖']\n",
      " ['↖' '↖' '↖' '↖' '↖' '←']\n",
      " ['↑' '↖' '↖' '←' '←' '↖']\n",
      " ['↖' '↖' '↖' '↖' '↖' '←']\n",
      " ['↑' '↖' '↖' '↖' '↖' '↖']\n",
      " ['↑' '↑' '↖' '↖' '↖' '↖']\n",
      " ['↖' '↑' '↖' '↖' '↖' '←']]\n",
      "5\n",
      "[['A' 'B' 'C' 'B' 'D' 'A' 'B' ' ']\n",
      " [' ' 'B' ' ' 'D' 'C' 'A' 'B' 'A']]\n"
     ]
    }
   ],
   "source": [
    "import numpy as np\n",
    "\n",
    "\n",
    "def edit_dis(X, Y):\n",
    "    m, n = len(X), len(Y)\n",
    "    c, b = np.empty((m + 1, n + 1), dtype='int'), np.empty((m, n), dtype='str')\n",
    "    for i in range(m + 1):\n",
    "        c[i, 0] = i\n",
    "    for j in range(n + 1):\n",
    "        c[0, j] = j\n",
    "    for i in range(1, m + 1):\n",
    "        for j in range(1, n + 1):\n",
    "            a = [c[i - 1, j - 1] + int(X[i - 1] != Y[j - 1]), c[i, j - 1] + 1, c[i - 1, j] + 1]\n",
    "            index = np.argmin(a)\n",
    "            c[i, j] = a[index]\n",
    "            if index == 0:\n",
    "                b[i - 1, j - 1] = '↖'\n",
    "            elif index == 1:\n",
    "                b[i - 1, j - 1] = '←'\n",
    "            else:\n",
    "                b[i - 1, j - 1] = '↑'\n",
    "    return c, b\n",
    "\n",
    "\n",
    "def restore_sol(i, j, b, l):\n",
    "    if i == -1:\n",
    "        for k in range(j + 1):\n",
    "            l.append([' ', Y[j]])\n",
    "        return\n",
    "    if j == -1:\n",
    "        for k in range(i + 1):\n",
    "            l.append([X[i], ' '])\n",
    "        return\n",
    "    if b[i, j] == '↖':\n",
    "        restore_sol(i - 1, j - 1, b, l)\n",
    "        l.append([X[i], Y[j]])\n",
    "    elif b[i, j] == '↑':\n",
    "        restore_sol(i - 1, j, b, l)\n",
    "        l.append([X[i], ' '])\n",
    "    else:\n",
    "        restore_sol(i, j - 1, b, l)\n",
    "        l.append([' ', Y[j]])\n",
    "\n",
    "\n",
    "X = ['A', 'B', 'C', 'B', 'D', 'A', 'B']\n",
    "Y = ['B', 'D', 'C', 'A', 'B', 'A']\n",
    "c, b = edit_dis(X, Y)\n",
    "l = []\n",
    "restore_sol(len(X) - 1, len(Y) - 1, b, l)\n",
    "l = np.transpose(l)\n",
    "\n",
    "print(c)\n",
    "print(b)\n",
    "print(c[len(X) - 1, len(Y) - 1])\n",
    "print(l)"
   ]
  }
 ],
 "metadata": {
  "kernelspec": {
   "display_name": "Python 3",
   "language": "python",
   "name": "python3"
  },
  "language_info": {
   "codemirror_mode": {
    "name": "ipython",
    "version": 3
   },
   "file_extension": ".py",
   "mimetype": "text/x-python",
   "name": "python",
   "nbconvert_exporter": "python",
   "pygments_lexer": "ipython3",
   "version": "3.12.7"
  }
 },
 "nbformat": 4,
 "nbformat_minor": 2
}
