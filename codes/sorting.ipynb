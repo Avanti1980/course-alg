{
 "cells": [
  {
   "cell_type": "code",
   "execution_count": 4,
   "metadata": {},
   "outputs": [
    {
     "name": "stdout",
     "output_type": "stream",
     "text": [
      "[1, 2, 3, 4, 5, 6]\n"
     ]
    }
   ],
   "source": [
    "def bubble_sort(a, n):\n",
    "    for i in range(n-1):\n",
    "        for j in range(n-1, i, -1):\n",
    "            if a[j] < a[j-1]:\n",
    "                a[j], a[j-1] = a[j-1], a[j]\n",
    "\n",
    "a = [5, 2, 4, 6, 1, 3]\n",
    "bubble_sort(a, len(a))\n",
    "print(a)"
   ]
  },
  {
   "cell_type": "code",
   "execution_count": 5,
   "metadata": {},
   "outputs": [
    {
     "name": "stdout",
     "output_type": "stream",
     "text": [
      "[1, 2, 3, 4, 5, 6]\n"
     ]
    }
   ],
   "source": [
    "def selection_sort(a, n):\n",
    "    for i in range(n-1):\n",
    "        smallest = i\n",
    "        for j in range(i+1, n):\n",
    "            if a[j] < a[smallest]:\n",
    "                smallest = j\n",
    "        a[i], a[smallest] = a[smallest], a[i]\n",
    "\n",
    "a = [5, 2, 4, 6, 1, 3]\n",
    "selection_sort(a, len(a))\n",
    "print(a)"
   ]
  },
  {
   "cell_type": "code",
   "execution_count": 6,
   "metadata": {},
   "outputs": [
    {
     "name": "stdout",
     "output_type": "stream",
     "text": [
      "[1, 2, 3, 4, 5, 6]\n"
     ]
    }
   ],
   "source": [
    "def insertion_sort(a, n):\n",
    "    for i in range(1, n):\n",
    "        key = a[i]\n",
    "        j = i - 1\n",
    "        while j >= 0 and key < a[j]:\n",
    "            a[j+1] = a[j]\n",
    "            j -= 1\n",
    "        a[j+1] = key\n",
    "\n",
    "a = [5, 2, 4, 6, 1, 3]\n",
    "insertion_sort(a, len(a))\n",
    "print(a)"
   ]
  },
  {
   "cell_type": "code",
   "execution_count": 7,
   "metadata": {},
   "outputs": [
    {
     "name": "stdout",
     "output_type": "stream",
     "text": [
      "[1, 2, 3, 4, 5, 6]\n"
     ]
    }
   ],
   "source": [
    "def merge(a, l, m, r):\n",
    "    n1, n2 = m - l + 1, r - m  # 子数组的长度\n",
    "    L, R = [0] * n1, [0] * n2  # 创建临时数组\n",
    "\n",
    "    for i in range(0, n1):  # 拷贝数据到临时数组L\n",
    "        L[i] = a[l + i]\n",
    "\n",
    "    for j in range(0, n2):  # 拷贝数据到临时数组R\n",
    "        R[j] = a[m + 1 + j]\n",
    "\n",
    "    i, j, k = 0, 0, l\n",
    "    while i < n1 and j < n2:  # 归并L和R到a[l..r]\n",
    "        if L[i] <= R[j]:\n",
    "            a[k] = L[i]\n",
    "            i += 1\n",
    "        else:\n",
    "            a[k] = R[j]\n",
    "            j += 1\n",
    "        k += 1\n",
    "\n",
    "    while i < n1:  # 拷贝L的剩余元素\n",
    "        a[k] = L[i]\n",
    "        i += 1\n",
    "        k += 1\n",
    "\n",
    "    while j < n2:  # 拷贝R的剩余元素\n",
    "        a[k] = R[j]\n",
    "        j += 1\n",
    "        k += 1\n",
    "\n",
    "\n",
    "def merge_sort(a, l, r):\n",
    "    if l < r:\n",
    "        m = int((l+r)/2)  # 取中间点分开\n",
    "        merge_sort(a, l, m)\n",
    "        merge_sort(a, m+1, r)\n",
    "        merge(a, l, m, r)\n",
    "\n",
    "a = [5, 2, 4, 6, 1, 3]\n",
    "merge_sort(a, 0, len(a)-1)\n",
    "print(a)"
   ]
  },
  {
   "cell_type": "code",
   "execution_count": 8,
   "metadata": {},
   "outputs": [
    {
     "name": "stdout",
     "output_type": "stream",
     "text": [
      "[1, 2, 3, 4, 5, 6]\n"
     ]
    }
   ],
   "source": [
    "def partition(a, l, r):\n",
    "\n",
    "    # 最右元素作为主元\n",
    "    pivot = a[r]\n",
    "\n",
    "    # 小于主元的元素的存放位置 初始为最左\n",
    "    i = l\n",
    "\n",
    "    # l -> r-1 遍历其他元素\n",
    "    for j in range(l, r):\n",
    "        if a[j] <= pivot:\n",
    "            # 小于主元的元素放到主元左边\n",
    "            a[i], a[j] = a[j], a[i]\n",
    "            i += 1  # 存放位置右移一位\n",
    "\n",
    "    # 所有小于主元的元素已位于主元左边\n",
    "    # 当前的i就是主元应该放的位置\n",
    "    # 当前的a[i]大于主元\n",
    "    a[i], a[r] = a[r], a[i]\n",
    "\n",
    "    return i\n",
    "\n",
    "\n",
    "def quick_sort(a, l, r):\n",
    "    if l < r:\n",
    "        m = partition(a, l, r)\n",
    "        quick_sort(a, l, m-1)\n",
    "        quick_sort(a, m+1, r)\n",
    "\n",
    "a = [5, 2, 4, 6, 1, 3]\n",
    "quick_sort(a, 0, len(a)-1)\n",
    "print(a)"
   ]
  }
 ],
 "metadata": {
  "kernelspec": {
   "display_name": "Python 3.10.8 64-bit",
   "language": "python",
   "name": "python3"
  },
  "language_info": {
   "codemirror_mode": {
    "name": "ipython",
    "version": 3
   },
   "file_extension": ".py",
   "mimetype": "text/x-python",
   "name": "python",
   "nbconvert_exporter": "python",
   "pygments_lexer": "ipython3",
   "version": "3.10.8"
  },
  "orig_nbformat": 4,
  "vscode": {
   "interpreter": {
    "hash": "e7370f93d1d0cde622a1f8e1c04877d8463912d04d973331ad4851f04de6915a"
   }
  }
 },
 "nbformat": 4,
 "nbformat_minor": 2
}
