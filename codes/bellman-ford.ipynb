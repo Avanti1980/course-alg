{
 "cells": [
  {
   "cell_type": "code",
   "execution_count": 2,
   "metadata": {},
   "outputs": [
    {
     "name": "stdout",
     "output_type": "stream",
     "text": [
      "0 {'s': 0, 't': inf, 'y': inf, 'z': inf, 'x': inf}\n",
      "1 {'s': 0, 't': 6, 'y': 7, 'z': inf, 'x': inf}\n",
      "2 {'s': 0, 't': 6, 'y': 7, 'z': 2, 'x': 4}\n",
      "3 {'s': 0, 't': 2, 'y': 7, 'z': 2, 'x': 4}\n",
      "4 {'s': 0, 't': 2, 'y': 7, 'z': -2, 'x': 4}\n",
      "{'s': None, 't': 'x', 'y': 's', 'z': 't', 'x': 'y'}\n"
     ]
    }
   ],
   "source": [
    "def bellman_ford(g, s):\n",
    "    d, p = dict(), dict()\n",
    "    for v in g:  # 距离初始化为无穷大 前驱初始化为空\n",
    "        d[v], p[v] = float(\"inf\"), None\n",
    "    d[s] = 0  # 源点到自己的最短路径长度为零\n",
    "    print(0, d)\n",
    "    for i in range(len(g) - 1):  # 遍历|V|-1次\n",
    "        dd = {key: value for (key, value) in d.items()}  # 备份上一轮的d\n",
    "        for u in g:\n",
    "            for v in g[u]:  # 内部的二重for循环遍历所有边\n",
    "                if d[v] > dd[u] + g[u][v]:           # 松弛\n",
    "                    d[v], p[v] = dd[u] + g[u][v], u  # 更新当前最短距离和前驱\n",
    "        print(i+1, d)\n",
    "\n",
    "    for u in g:\n",
    "        for v in g[u]:\n",
    "            assert (d[v] <= d[u] + g[u][v]), \"有负环\"\n",
    "\n",
    "    return d, p\n",
    "\n",
    "\n",
    "g = {                                # 用集合表示有向图g 元素为字典\n",
    "    \"s\": {\"t\": 6, \"y\": 7},           # w(s,t) = 6, w(s,y) = 7\n",
    "    \"t\": {\"x\": 5, \"z\": -4, \"y\": 8},  # w(t,x) = 5, w(t,z) = -4, w(t,y) = 8\n",
    "    \"y\": {\"z\": 9, \"x\": -3},          # w(y,z) = 9, w(y,x) = -3\n",
    "    \"z\": {\"x\": 7, \"s\": 2},           # w(z,x) = 7, w(z,s) = 2\n",
    "    \"x\": {\"t\": -2},                  # w(x,t) = -2\n",
    "}\n",
    "\n",
    "d, p = bellman_ford(g, s=\"s\")\n",
    "print(p)"
   ]
  },
  {
   "cell_type": "code",
   "execution_count": 3,
   "metadata": {},
   "outputs": [
    {
     "name": "stdout",
     "output_type": "stream",
     "text": [
      "顺序 使用上一轮的d\n",
      "0 {'s': 0, 'x': inf, 'y': inf, 'z': inf, 't': inf}\n",
      "1 {'s': 0, 'x': 1, 'y': inf, 'z': inf, 't': inf}\n",
      "2 {'s': 0, 'x': 1, 'y': 2, 'z': inf, 't': inf}\n",
      "3 {'s': 0, 'x': 1, 'y': 2, 'z': 3, 't': inf}\n",
      "4 {'s': 0, 'x': 1, 'y': 2, 'z': 3, 't': 4}\n",
      "顺序 使用即时的d\n",
      "0 {'s': 0, 'x': inf, 'y': inf, 'z': inf, 't': inf}\n",
      "1 {'s': 0, 'x': 1, 'y': 2, 'z': 3, 't': 4}\n",
      "2 {'s': 0, 'x': 1, 'y': 2, 'z': 3, 't': 4}\n",
      "3 {'s': 0, 'x': 1, 'y': 2, 'z': 3, 't': 4}\n",
      "4 {'s': 0, 'x': 1, 'y': 2, 'z': 3, 't': 4}\n",
      "逆序 使用上一轮的d\n",
      "0 {'t': inf, 'z': inf, 'y': inf, 'x': inf, 's': 0}\n",
      "1 {'t': inf, 'z': inf, 'y': inf, 'x': 1, 's': 0}\n",
      "2 {'t': inf, 'z': inf, 'y': 2, 'x': 1, 's': 0}\n",
      "3 {'t': inf, 'z': 3, 'y': 2, 'x': 1, 's': 0}\n",
      "4 {'t': 4, 'z': 3, 'y': 2, 'x': 1, 's': 0}\n",
      "逆序 使用即时的d\n",
      "0 {'t': inf, 'z': inf, 'y': inf, 'x': inf, 's': 0}\n",
      "1 {'t': inf, 'z': inf, 'y': inf, 'x': 1, 's': 0}\n",
      "2 {'t': inf, 'z': inf, 'y': 2, 'x': 1, 's': 0}\n",
      "3 {'t': inf, 'z': 3, 'y': 2, 'x': 1, 's': 0}\n",
      "4 {'t': 4, 'z': 3, 'y': 2, 'x': 1, 's': 0}\n"
     ]
    }
   ],
   "source": [
    "def bellman_ford_dp(g, s):\n",
    "    d = dict()\n",
    "    for v in g:  # 距离初始化为无穷大 前驱初始化为空\n",
    "        d[v] = float(\"inf\")\n",
    "    d[s] = 0  # 源点到自己的最短路径长度为零\n",
    "    print(0, d)\n",
    "    for i in range(len(g) - 1):  # 遍历|V|-1次\n",
    "        dd = {key: value for (key, value) in d.items()}  # 备份上一轮的d\n",
    "        for u in g:\n",
    "            for v in g[u]:  # 内部的二重for循环遍历所有边\n",
    "                d[v] = min(d[v], dd[u] + g[u][v])  # 松弛\n",
    "        print(i+1, d)\n",
    "    return d\n",
    "\n",
    "\n",
    "def bellman_ford(g, s):\n",
    "    d = dict()\n",
    "    for v in g:  # 距离初始化为无穷大 前驱初始化为空\n",
    "        d[v] = float(\"inf\")\n",
    "    d[s] = 0  # 源点到自己的最短路径长度为零\n",
    "    print(0, d)\n",
    "    for i in range(len(g) - 1):  # 遍历|V|-1次\n",
    "        for u in g:\n",
    "            for v in g[u]:  # 内部的二重for循环遍历所有边\n",
    "                d[v] = min(d[v], d[u] + g[u][v])  # 松弛\n",
    "        print(i+1, d)\n",
    "    return d\n",
    "\n",
    "\n",
    "g = {  # 顺序遍历所有点 s -> x -> y -> z -> t\n",
    "    \"s\": {\"x\": 1},  # w(s,x) = 1\n",
    "    \"x\": {\"y\": 1},  # w(x,y) = 1\n",
    "    \"y\": {\"z\": 1},  # w(y,z) = 1\n",
    "    \"z\": {\"t\": 1},  # w(z,t) = 1\n",
    "    \"t\": {}\n",
    "}\n",
    "\n",
    "print(\"顺序 使用上一轮的d\")\n",
    "d = bellman_ford_dp(g, s=\"s\")\n",
    "\n",
    "print(\"顺序 使用即时的d\")\n",
    "d = bellman_ford(g, s=\"s\")\n",
    "\n",
    "g = {  # 逆序遍历所有点 t -> z -> y -> x -> s\n",
    "    \"t\": {},\n",
    "    \"z\": {\"t\": 1},  # w(z,t) = 1\n",
    "    \"y\": {\"z\": 1},  # w(y,z) = 1\n",
    "    \"x\": {\"y\": 1},  # w(x,y) = 1\n",
    "    \"s\": {\"x\": 1},  # w(s,x) = 1\n",
    "}\n",
    "\n",
    "print(\"逆序 使用上一轮的d\")\n",
    "d = bellman_ford_dp(g, s=\"s\")\n",
    "\n",
    "print(\"逆序 使用即时的d\")\n",
    "d = bellman_ford(g, s=\"s\")"
   ]
  }
 ],
 "metadata": {
  "kernelspec": {
   "display_name": "Python 3.10.8 64-bit",
   "language": "python",
   "name": "python3"
  },
  "language_info": {
   "codemirror_mode": {
    "name": "ipython",
    "version": 3
   },
   "file_extension": ".py",
   "mimetype": "text/x-python",
   "name": "python",
   "nbconvert_exporter": "python",
   "pygments_lexer": "ipython3",
   "version": "3.10.8"
  },
  "orig_nbformat": 4,
  "vscode": {
   "interpreter": {
    "hash": "e7370f93d1d0cde622a1f8e1c04877d8463912d04d973331ad4851f04de6915a"
   }
  }
 },
 "nbformat": 4,
 "nbformat_minor": 2
}
