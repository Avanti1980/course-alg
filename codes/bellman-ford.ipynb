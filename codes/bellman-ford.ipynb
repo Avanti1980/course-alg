{
 "cells": [
  {
   "cell_type": "code",
   "execution_count": 1,
   "metadata": {},
   "outputs": [
    {
     "name": "stdout",
     "output_type": "stream",
     "text": [
      "{'s': 0, 't': 2, 'y': 7, 'z': -2, 'x': 4}\n",
      "{'s': None, 't': 'x', 'y': 's', 'z': 't', 'x': 'y'}\n"
     ]
    }
   ],
   "source": [
    "def bellman_ford(g, s):\n",
    "    d, p = dict(), dict()\n",
    "    for v in g:  # 距离初始化为无穷大 前驱初始化为空\n",
    "        d[v], p[v] = float(\"inf\"), None\n",
    "    d[s] = 0  # 源点到自己的最短路径长度为零\n",
    "\n",
    "    for _ in range(len(g) - 1):  # 遍历|V|-1次\n",
    "        for u in g:\n",
    "            for v in g[u]:  # 内部的二重for循环遍历所有边\n",
    "                if d[v] > d[u] + g[u][v]:           # 松弛\n",
    "                    d[v], p[v] = d[u] + g[u][v], u  # 更新当前最短距离和前驱\n",
    "\n",
    "    for u in g:\n",
    "        for v in g[u]:\n",
    "            assert (d[v] <= d[u] + g[u][v]), \"有负环\"\n",
    "\n",
    "    return d, p\n",
    "\n",
    "\n",
    "g = {\n",
    "    \"s\": {\"t\": 6, \"y\": 7},           # w(s,t) = 6, w(s,y) = 7\n",
    "    \"t\": {\"x\": 5, \"z\": -4, \"y\": 8},  # w(t,x) = 5, w(t,z) = -4, w(t,y) = 8\n",
    "    \"y\": {\"z\": 9, \"x\": -3},          # w(y,z) = 9, w(y,x) = -3\n",
    "    \"z\": {\"x\": 7, \"s\": 2},           # w(z,x) = 7, w(z,s) = 2\n",
    "    \"x\": {\"t\": -2},                  # w(x,t) = -2\n",
    "}\n",
    "\n",
    "d, p = bellman_ford(g, s=\"s\")\n",
    "print(d)\n",
    "print(p)"
   ]
  }
 ],
 "metadata": {
  "kernelspec": {
   "display_name": "Python 3.10.8 64-bit",
   "language": "python",
   "name": "python3"
  },
  "language_info": {
   "codemirror_mode": {
    "name": "ipython",
    "version": 3
   },
   "file_extension": ".py",
   "mimetype": "text/x-python",
   "name": "python",
   "nbconvert_exporter": "python",
   "pygments_lexer": "ipython3",
   "version": "3.10.8"
  },
  "orig_nbformat": 4,
  "vscode": {
   "interpreter": {
    "hash": "e7370f93d1d0cde622a1f8e1c04877d8463912d04d973331ad4851f04de6915a"
   }
  }
 },
 "nbformat": 4,
 "nbformat_minor": 2
}
