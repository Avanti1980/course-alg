{
 "cells": [
  {
   "cell_type": "code",
   "execution_count": 1,
   "metadata": {},
   "outputs": [
    {
     "name": "stdout",
     "output_type": "stream",
     "text": [
      "6\n",
      "6\n",
      "6\n",
      "6\n"
     ]
    }
   ],
   "source": [
    "def gcd1(a, b):  # 暴力穷举\n",
    "    for i in range(1, min(a, b) + 1):        # 最大公约数不会大于两者中的较小者\n",
    "        if ((a % i == 0) and (b % i == 0)):  # 同时整除即为公约数\n",
    "            gcd = i\n",
    "    return gcd\n",
    "\n",
    "\n",
    "def gcd2(a, b):  # 辗转相除\n",
    "    a, b = max(a, b), min(a, b)\n",
    "    while a % b:\n",
    "        a, b = b, a % b\n",
    "    return b\n",
    "\n",
    "\n",
    "def gcd3(a, b):  # 更相减损\n",
    "    while True:\n",
    "        if a > b:\n",
    "            a = a - b\n",
    "        elif a < b:\n",
    "            b = b - a\n",
    "        else:\n",
    "            return b\n",
    "\n",
    "\n",
    "def gcd4(a, b):  # 改进的更相减损\n",
    "    if a == b:\n",
    "        return b\n",
    "    while True:\n",
    "        if not (a & 1) and not (b & 1):  # 均为偶 gcd(a,b) = 2 * gcd(a/2, b/2)\n",
    "            return gcd4(a >> 1, b >> 1) << 1\n",
    "        elif not (a & 1) and (b & 1):    # a偶 b奇 gcd(a,b) = gcd(a/2, b)\n",
    "            return gcd4(a >> 1, b)\n",
    "        elif (a & 1) and not (b & 1):    # a奇 b偶 gcd(a,b) = gcd(a, b/2)\n",
    "            return gcd4(a, b >> 1)\n",
    "        else:                            # 均为奇 更相减损 gcd(a,b) = gcd(a-b, b)\n",
    "            a, b = max(a, b), min(a, b)\n",
    "            return gcd4(a-b, b)\n",
    "\n",
    "\n",
    "print(gcd1(2022, 1566))\n",
    "print(gcd2(2022, 1566))\n",
    "print(gcd3(2022, 1566))\n",
    "print(gcd4(2022, 1566))\n"
   ]
  }
 ],
 "metadata": {
  "kernelspec": {
   "display_name": "Python 3.10.8 64-bit",
   "language": "python",
   "name": "python3"
  },
  "language_info": {
   "codemirror_mode": {
    "name": "ipython",
    "version": 3
   },
   "file_extension": ".py",
   "mimetype": "text/x-python",
   "name": "python",
   "nbconvert_exporter": "python",
   "pygments_lexer": "ipython3",
   "version": "3.10.8"
  },
  "orig_nbformat": 4,
  "vscode": {
   "interpreter": {
    "hash": "e7370f93d1d0cde622a1f8e1c04877d8463912d04d973331ad4851f04de6915a"
   }
  }
 },
 "nbformat": 4,
 "nbformat_minor": 2
}
